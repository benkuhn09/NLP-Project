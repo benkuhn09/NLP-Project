{
 "cells": [
  {
   "cell_type": "code",
   "execution_count": 2,
   "metadata": {},
   "outputs": [
    {
     "name": "stderr",
     "output_type": "stream",
     "text": [
      "/Users/gargoyle/Library/Python/3.9/lib/python/site-packages/urllib3/__init__.py:35: NotOpenSSLWarning: urllib3 v2 only supports OpenSSL 1.1.1+, currently the 'ssl' module is compiled with 'LibreSSL 2.8.3'. See: https://github.com/urllib3/urllib3/issues/3020\n",
      "  warnings.warn(\n"
     ]
    }
   ],
   "source": [
    "#imports\n",
    "\n",
    "import ast                     # try_literal_eval()\n",
    "import numpy as np              \n",
    "import pandas as pd             \n",
    "from pathlib import Path        \n",
    "import tensorflow_hub as hub    # loading Universal Sentence Encoder\n",
    "from tensorflow.keras.callbacks import EarlyStopping   \n",
    "from tensorflow.keras import layers, models, utils     # build_ffnn, one-hot, etc.\n",
    "import seaborn as sns\n",
    "from sklearn.metrics import classification_report, confusion_matrix\n",
    "from sklearn.model_selection import StratifiedKFold    # cross-validation\n",
    "from sklearn.model_selection import train_test_split\n",
    "from sklearn.preprocessing import StandardScaler       # numeric feature scaling\n",
    "import matplotlib.pyplot as plt  # class distribution plot\n",
    "from sklearn.utils.class_weight import compute_class_weight  # class weights\n",
    "import re                       # clean_text()\n",
    "\n",
    "\n",
    "\n",
    "\n",
    "RANDOM_STATE = 42\n",
    "N_JOBS = -1\n",
    "\n",
    "pd.set_option(\"display.max_colwidth\", 120)"
   ]
  },
  {
   "cell_type": "code",
   "execution_count": 3,
   "metadata": {},
   "outputs": [
    {
     "name": "stdout",
     "output_type": "stream",
     "text": [
      "Train shape: (2999, 8)\n",
      "Test shape: (823, 7)\n",
      "Train columns: ['chef_id', 'recipe_name', 'data', 'tags', 'steps', 'description', 'ingredients', 'n_ingredients']\n",
      "Test columns: ['recipe_name', 'data', 'tags', 'steps', 'description', 'ingredients', 'n_ingredients']\n"
     ]
    }
   ],
   "source": [
    "#reading in data\n",
    "\n",
    "def read_semicolon_csv(path):\n",
    "    return pd.read_csv(path, sep=';', dtype=str, keep_default_na=False)\n",
    "\n",
    "DATA_DIR = Path('.')\n",
    "train_path = DATA_DIR / 'train.csv'\n",
    "test_path  = DATA_DIR / 'test-no-labels.csv'\n",
    "\n",
    "train_df = read_semicolon_csv(train_path)\n",
    "test_df  = read_semicolon_csv(test_path)\n",
    "\n",
    "print(\"Train shape:\", train_df.shape)\n",
    "print(\"Test shape:\",  test_df.shape)\n",
    "train_df.head(2)\n",
    "\n",
    "print(\"Train columns:\", train_df.columns.tolist())\n",
    "print(\"Test columns:\", test_df.columns.tolist())"
   ]
  },
  {
   "cell_type": "code",
   "execution_count": 4,
   "metadata": {},
   "outputs": [
    {
     "name": "stdout",
     "output_type": "stream",
     "text": [
      "Classes (chefs): ['1533', '3288', '4470', '5060', '6357', '8688'] -> 6 classes\n"
     ]
    }
   ],
   "source": [
    "# helper: parse strings into lists\n",
    "def try_literal_eval(x):\n",
    "    if isinstance(x, list):\n",
    "        return x\n",
    "    try:\n",
    "        val = ast.literal_eval(x)\n",
    "        if isinstance(val, (list, tuple)):\n",
    "            return [str(i) for i in val]\n",
    "        return [str(val)]\n",
    "    except Exception:\n",
    "        # fallback: just split on commas\n",
    "        return [t.strip() for t in str(x).split(',') if t.strip()]\n",
    "\n",
    "# helper: strings to floats\n",
    "def parse_numeric(x):\n",
    "    try:\n",
    "        return float(x)\n",
    "    except Exception:\n",
    "        return np.nan\n",
    "\n",
    "# parsing list-like columns\n",
    "for col in ['tags', 'steps', 'ingredients']:\n",
    "    train_df[col] = train_df[col].apply(try_literal_eval)\n",
    "    test_df[col]  = test_df[col].apply(try_literal_eval)\n",
    "\n",
    "# make sure n_ingredients is numeric\n",
    "train_df['n_ingredients_num'] = train_df['n_ingredients'].apply(parse_numeric)\n",
    "test_df['n_ingredients_num']  = test_df['n_ingredients'].apply(parse_numeric)\n",
    "\n",
    "# fill missing numeric values using ingredient list length\n",
    "train_df['n_ingredients_num'] = np.where(train_df['n_ingredients_num'].isna(),\n",
    "                                         train_df['ingredients'].apply(len),\n",
    "                                         train_df['n_ingredients_num'])\n",
    "test_df['n_ingredients_num'] = np.where(test_df['n_ingredients_num'].isna(),\n",
    "                                        test_df['ingredients'].apply(len),\n",
    "                                        test_df['n_ingredients_num'])\n",
    "\n",
    "# ensure textual columns are strings\n",
    "text_cols = ['recipe_name', 'data', 'description']\n",
    "for c in text_cols:\n",
    "    train_df[c] = train_df[c].astype(str)\n",
    "    test_df[c]  = test_df[c].astype(str)\n",
    "\n",
    "# get the target labels (the chef IDs)\n",
    "y = train_df['chef_id'].astype(str).values\n",
    "classes = np.unique(y)\n",
    "print(\"Classes (chefs):\", classes.tolist(), \"->\", len(classes), \"classes\")"
   ]
  },
  {
   "cell_type": "code",
   "execution_count": 5,
   "metadata": {},
   "outputs": [],
   "source": [
    "embed = hub.load(\"https://tfhub.dev/google/universal-sentence-encoder/4\")"
   ]
  },
  {
   "cell_type": "code",
   "execution_count": 6,
   "metadata": {},
   "outputs": [
    {
     "name": "stdout",
     "output_type": "stream",
     "text": [
      "Example combined text:\n",
      "\n",
      "name chefy s rice pudding. date 29012002. description by request, from georgian bay gourmet.. tags 60-minutes-or-less, time-to-make, course, main-ingredient, cuisine, preparation, occasion, north-american, for-large-groups, desserts, lunch, rice, canadian, oven, easy, potluck, dinner-party, fall, heirloom-historical, holiday-event, kid-friendly, winter, puddings-and-mousses, grains, dietary, low-s\n",
      "\n",
      "Numeric feature example (first 5 rows):\n",
      "   n_ingredients_num_scaled  n_steps_scaled\n",
      "0                 -0.833448       -0.234484\n",
      "1                  1.065464        1.176185\n",
      "2                  0.794191        0.647184\n",
      "3                 -1.375995       -1.292486\n",
      "4                  1.065464        3.821190\n"
     ]
    },
    {
     "data": {
      "image/png": "[encoded data removed]",
      "text/plain": [
       "<Figure size 640x480 with 1 Axes>"
      ]
     },
     "metadata": {},
     "output_type": "display_data"
    },
    {
     "name": "stdout",
     "output_type": "stream",
     "text": [
      "1533    404\n",
      "3288    451\n",
      "4470    806\n",
      "5060    534\n",
      "6357    372\n",
      "8688    432\n",
      "Name: count, dtype: int64\n",
      "\n",
      "Proportions (%):\n",
      "1533    13.47\n",
      "3288    15.04\n",
      "4470    26.88\n",
      "5060    17.81\n",
      "6357    12.40\n",
      "8688    14.40\n",
      "Name: count, dtype: float64\n",
      "{0: np.float64(1.2372112211221122), 1: np.float64(1.108277900960828), 2: np.float64(0.6201406120760959), 3: np.float64(0.9360174781523096), 4: np.float64(1.3436379928315412), 5: np.float64(1.1570216049382716)}\n"
     ]
    }
   ],
   "source": [
    "def clean_text(text):\n",
    "    text = re.sub(r'\\s+', ' ', text)     # collapse multiple spaces\n",
    "    text = re.sub(r'[^\\w\\s,.!?-]', '', text)  # remove weird symbols\n",
    "    text = text.strip().lower()\n",
    "    return text\n",
    "\n",
    "def combine_all_text(df):\n",
    "    return (\n",
    "        \"name: \" + df['recipe_name'].fillna('') + '. ' +\n",
    "        \"date: \" + df['data'].fillna('') + '. ' +\n",
    "        \"description: \" + df['description'].fillna('') + '. ' +\n",
    "        \"tags: \" + df['tags'].apply(lambda lst: ', '.join(lst) if isinstance(lst, list) else str(lst)) + '. ' +\n",
    "        \"steps: \" + df['steps'].apply(lambda lst: '. '.join(lst) if isinstance(lst, list) else str(lst)) + '. ' +\n",
    "        \"ingredients: \" + df['ingredients'].apply(lambda lst: ', '.join(lst) if isinstance(lst, list) else str(lst)) + '.'\n",
    "    ).apply(clean_text)\n",
    "\n",
    "X_alltext = combine_all_text(train_df)\n",
    "\n",
    "print(\"Example combined text:\\n\")\n",
    "print(X_alltext.iloc[0][:400])\n",
    "\n",
    "# count steps\n",
    "train_df['n_steps'] = train_df['steps'].apply(len)\n",
    "test_df['n_steps'] = test_df['steps'].apply(len)\n",
    "\n",
    "scaler = StandardScaler()\n",
    "numeric_train = scaler.fit_transform(train_df[['n_ingredients_num', 'n_steps']])\n",
    "numeric_test  = scaler.transform(test_df[['n_ingredients_num', 'n_steps']])\n",
    "\n",
    "print(\"\\nNumeric feature example (first 5 rows):\")\n",
    "print(pd.DataFrame(numeric_train, columns=['n_ingredients_num_scaled', 'n_steps_scaled']).head())\n",
    "\n",
    "# chef data balance chart\n",
    "chef_counts = pd.Series(y).value_counts().sort_index()\n",
    "chef_counts.plot(kind='bar')\n",
    "plt.title(\"Number of Recipes per Chef\")\n",
    "plt.xlabel(\"Chef ID\")\n",
    "plt.ylabel(\"Count\")\n",
    "plt.show()\n",
    "\n",
    "print(chef_counts)\n",
    "print(\"\\nProportions (%):\")\n",
    "print((chef_counts / len(y) * 100).round(2))\n",
    "\n",
    "class_weights = compute_class_weight('balanced', classes=classes, y=y)\n",
    "class_weights_dict = dict(zip(range(len(classes)), class_weights))\n",
    "print(class_weights_dict)"
   ]
  },
  {
   "cell_type": "code",
   "execution_count": 7,
   "metadata": {},
   "outputs": [
    {
     "name": "stdout",
     "output_type": "stream",
     "text": [
      "\n",
      "Using original (non-augmented) dataset:\n",
      "Samples: 2999\n",
      "Classes: 6\n"
     ]
    }
   ],
   "source": [
    "# --- No augmentation version ---\n",
    "\n",
    "# We simply use the original data as-is\n",
    "X_alltext_noaug = X_alltext\n",
    "numeric_train_noaug = numeric_train\n",
    "y_noaug = y\n",
    "\n",
    "classes_noaug = np.unique(y_noaug)\n",
    "\n",
    "print(\"\\nUsing original (non-augmented) dataset:\")\n",
    "print(\"Samples:\", len(X_alltext_noaug))\n",
    "print(\"Classes:\", len(classes_noaug))\n"
   ]
  },
  {
   "cell_type": "code",
   "execution_count": 11,
   "metadata": {},
   "outputs": [
    {
     "name": "stdout",
     "output_type": "stream",
     "text": [
      "\n",
      "----- Fold 1/12 -----\n"
     ]
    },
    {
     "name": "stderr",
     "output_type": "stream",
     "text": [
      "/Users/gargoyle/Library/Python/3.9/lib/python/site-packages/keras/src/layers/core/dense.py:93: UserWarning: Do not pass an `input_shape`/`input_dim` argument to a layer. When using Sequential models, prefer using an `Input(shape)` object as the first layer in the model instead.\n",
      "  super().__init__(activity_regularizer=activity_regularizer, **kwargs)\n"
     ]
    },
    {
     "name": "stdout",
     "output_type": "stream",
     "text": [
      "Fold 1 accuracy: 71.60%\n",
      "\n",
      "----- Fold 2/12 -----\n"
     ]
    },
    {
     "name": "stderr",
     "output_type": "stream",
     "text": [
      "/Users/gargoyle/Library/Python/3.9/lib/python/site-packages/keras/src/layers/core/dense.py:93: UserWarning: Do not pass an `input_shape`/`input_dim` argument to a layer. When using Sequential models, prefer using an `Input(shape)` object as the first layer in the model instead.\n",
      "  super().__init__(activity_regularizer=activity_regularizer, **kwargs)\n"
     ]
    },
    {
     "name": "stdout",
     "output_type": "stream",
     "text": [
      "Fold 2 accuracy: 66.40%\n",
      "\n",
      "----- Fold 3/12 -----\n"
     ]
    },
    {
     "name": "stderr",
     "output_type": "stream",
     "text": [
      "/Users/gargoyle/Library/Python/3.9/lib/python/site-packages/keras/src/layers/core/dense.py:93: UserWarning: Do not pass an `input_shape`/`input_dim` argument to a layer. When using Sequential models, prefer using an `Input(shape)` object as the first layer in the model instead.\n",
      "  super().__init__(activity_regularizer=activity_regularizer, **kwargs)\n"
     ]
    },
    {
     "name": "stdout",
     "output_type": "stream",
     "text": [
      "Fold 3 accuracy: 68.00%\n",
      "\n",
      "----- Fold 4/12 -----\n"
     ]
    },
    {
     "name": "stderr",
     "output_type": "stream",
     "text": [
      "/Users/gargoyle/Library/Python/3.9/lib/python/site-packages/keras/src/layers/core/dense.py:93: UserWarning: Do not pass an `input_shape`/`input_dim` argument to a layer. When using Sequential models, prefer using an `Input(shape)` object as the first layer in the model instead.\n",
      "  super().__init__(activity_regularizer=activity_regularizer, **kwargs)\n"
     ]
    },
    {
     "name": "stdout",
     "output_type": "stream",
     "text": [
      "Fold 4 accuracy: 66.00%\n",
      "\n",
      "----- Fold 5/12 -----\n"
     ]
    },
    {
     "name": "stderr",
     "output_type": "stream",
     "text": [
      "/Users/gargoyle/Library/Python/3.9/lib/python/site-packages/keras/src/layers/core/dense.py:93: UserWarning: Do not pass an `input_shape`/`input_dim` argument to a layer. When using Sequential models, prefer using an `Input(shape)` object as the first layer in the model instead.\n",
      "  super().__init__(activity_regularizer=activity_regularizer, **kwargs)\n"
     ]
    },
    {
     "name": "stdout",
     "output_type": "stream",
     "text": [
      "Fold 5 accuracy: 67.60%\n",
      "\n",
      "----- Fold 6/12 -----\n"
     ]
    },
    {
     "name": "stderr",
     "output_type": "stream",
     "text": [
      "/Users/gargoyle/Library/Python/3.9/lib/python/site-packages/keras/src/layers/core/dense.py:93: UserWarning: Do not pass an `input_shape`/`input_dim` argument to a layer. When using Sequential models, prefer using an `Input(shape)` object as the first layer in the model instead.\n",
      "  super().__init__(activity_regularizer=activity_regularizer, **kwargs)\n"
     ]
    },
    {
     "name": "stdout",
     "output_type": "stream",
     "text": [
      "Fold 6 accuracy: 70.00%\n",
      "\n",
      "----- Fold 7/12 -----\n"
     ]
    },
    {
     "name": "stderr",
     "output_type": "stream",
     "text": [
      "/Users/gargoyle/Library/Python/3.9/lib/python/site-packages/keras/src/layers/core/dense.py:93: UserWarning: Do not pass an `input_shape`/`input_dim` argument to a layer. When using Sequential models, prefer using an `Input(shape)` object as the first layer in the model instead.\n",
      "  super().__init__(activity_regularizer=activity_regularizer, **kwargs)\n"
     ]
    },
    {
     "name": "stdout",
     "output_type": "stream",
     "text": [
      "Fold 7 accuracy: 73.60%\n",
      "\n",
      "----- Fold 8/12 -----\n"
     ]
    },
    {
     "name": "stderr",
     "output_type": "stream",
     "text": [
      "/Users/gargoyle/Library/Python/3.9/lib/python/site-packages/keras/src/layers/core/dense.py:93: UserWarning: Do not pass an `input_shape`/`input_dim` argument to a layer. When using Sequential models, prefer using an `Input(shape)` object as the first layer in the model instead.\n",
      "  super().__init__(activity_regularizer=activity_regularizer, **kwargs)\n"
     ]
    },
    {
     "name": "stdout",
     "output_type": "stream",
     "text": [
      "Fold 8 accuracy: 70.00%\n",
      "\n",
      "----- Fold 9/12 -----\n"
     ]
    },
    {
     "name": "stderr",
     "output_type": "stream",
     "text": [
      "/Users/gargoyle/Library/Python/3.9/lib/python/site-packages/keras/src/layers/core/dense.py:93: UserWarning: Do not pass an `input_shape`/`input_dim` argument to a layer. When using Sequential models, prefer using an `Input(shape)` object as the first layer in the model instead.\n",
      "  super().__init__(activity_regularizer=activity_regularizer, **kwargs)\n"
     ]
    },
    {
     "name": "stdout",
     "output_type": "stream",
     "text": [
      "Fold 9 accuracy: 70.80%\n",
      "\n",
      "----- Fold 10/12 -----\n"
     ]
    },
    {
     "name": "stderr",
     "output_type": "stream",
     "text": [
      "/Users/gargoyle/Library/Python/3.9/lib/python/site-packages/keras/src/layers/core/dense.py:93: UserWarning: Do not pass an `input_shape`/`input_dim` argument to a layer. When using Sequential models, prefer using an `Input(shape)` object as the first layer in the model instead.\n",
      "  super().__init__(activity_regularizer=activity_regularizer, **kwargs)\n"
     ]
    },
    {
     "name": "stdout",
     "output_type": "stream",
     "text": [
      "Fold 10 accuracy: 68.40%\n",
      "\n",
      "----- Fold 11/12 -----\n"
     ]
    },
    {
     "name": "stderr",
     "output_type": "stream",
     "text": [
      "/Users/gargoyle/Library/Python/3.9/lib/python/site-packages/keras/src/layers/core/dense.py:93: UserWarning: Do not pass an `input_shape`/`input_dim` argument to a layer. When using Sequential models, prefer using an `Input(shape)` object as the first layer in the model instead.\n",
      "  super().__init__(activity_regularizer=activity_regularizer, **kwargs)\n"
     ]
    },
    {
     "name": "stdout",
     "output_type": "stream",
     "text": [
      "Fold 11 accuracy: 65.60%\n",
      "\n",
      "----- Fold 12/12 -----\n"
     ]
    },
    {
     "name": "stderr",
     "output_type": "stream",
     "text": [
      "/Users/gargoyle/Library/Python/3.9/lib/python/site-packages/keras/src/layers/core/dense.py:93: UserWarning: Do not pass an `input_shape`/`input_dim` argument to a layer. When using Sequential models, prefer using an `Input(shape)` object as the first layer in the model instead.\n",
      "  super().__init__(activity_regularizer=activity_regularizer, **kwargs)\n"
     ]
    },
    {
     "name": "stdout",
     "output_type": "stream",
     "text": [
      "Fold 12 accuracy: 71.89%\n",
      "\n",
      "Cross-validation results:\n",
      "Mean accuracy: 69.16% ± 2.45%\n"
     ]
    }
   ],
   "source": [
    "classes_noaug = np.unique(y_noaug)\n",
    "\n",
    "# model\n",
    "def build_ffnn():\n",
    "    model = models.Sequential([\n",
    "        layers.Dense(256, activation='relu', input_shape=(514,)),  # 512 + 2 numeric\n",
    "        layers.BatchNormalization(),\n",
    "        layers.Dropout(0.3),\n",
    "        layers.Dense(128, activation='relu'),\n",
    "        layers.Dropout(0.3),\n",
    "        layers.Dense(len(classes_noaug), activation='softmax')\n",
    "    ])\n",
    "    model.compile(optimizer='adam', loss='categorical_crossentropy', metrics=['accuracy'])\n",
    "    return model\n",
    "\n",
    "\n",
    "# k-fold training\n",
    "kf = StratifiedKFold(n_splits=12, shuffle=True, random_state=RANDOM_STATE)\n",
    "fold_accuracies = []\n",
    "\n",
    "\n",
    "for fold, (train_idx, val_idx) in enumerate(kf.split(X_alltext_noaug, y_noaug), 1):\n",
    "    print(f\"\\n----- Fold {fold}/{kf.n_splits} -----\")\n",
    "    X_train_fold, X_val_fold = X_alltext_noaug.iloc[train_idx], X_alltext_noaug.iloc[val_idx]\n",
    "    y_train_fold, y_val_fold = y_noaug[train_idx], y_noaug[val_idx]\n",
    "\n",
    "    # embeddings\n",
    "    X_train_embed = embed(X_train_fold.tolist())\n",
    "    X_val_embed   = embed(X_val_fold.tolist())\n",
    "\n",
    "    # Numeric features\n",
    "    n_train = numeric_train_noaug[train_idx]\n",
    "    n_val   = numeric_train_noaug[val_idx]\n",
    "\n",
    "    # Combine text and numeric features\n",
    "    X_train_concat = np.hstack([X_train_embed, n_train])\n",
    "    X_val_concat   = np.hstack([X_val_embed, n_val])\n",
    "\n",
    "    # One-hot encode labels\n",
    "    y_train_cat = utils.to_categorical(pd.Categorical(y_train_fold, categories=classes_noaug).codes)\n",
    "    y_val_cat   = utils.to_categorical(pd.Categorical(y_val_fold, categories=classes_noaug).codes)\n",
    "\n",
    "    # Train\n",
    "    model = build_ffnn()\n",
    "    early_stop = EarlyStopping(monitor='val_accuracy', patience=6, restore_best_weights=True)\n",
    "\n",
    "    history = model.fit(\n",
    "        X_train_concat, y_train_cat,\n",
    "        validation_data=(X_val_concat, y_val_cat),\n",
    "        epochs=30, batch_size=32, verbose=0,\n",
    "        callbacks=[early_stop]\n",
    "        # NOTE: we remove class_weights since we now balanced classes via augmentation\n",
    "    )\n",
    "\n",
    "    loss, acc = model.evaluate(X_val_concat, y_val_cat, verbose=0)\n",
    "    print(f\"Fold {fold} accuracy: {acc*100:.2f}%\")\n",
    "    fold_accuracies.append(acc)\n",
    "\n",
    "print(\"\\nCross-validation results:\")\n",
    "print(f\"Mean accuracy: {np.mean(fold_accuracies)*100:.2f}% ± {np.std(fold_accuracies)*100:.2f}%\")\n",
    "\n"
   ]
  },
  {
   "cell_type": "code",
   "execution_count": 9,
   "metadata": {},
   "outputs": [
    {
     "name": "stdout",
     "output_type": "stream",
     "text": [
      "\n",
      "Evaluating model for confusion matrix...\n",
      "Epoch 1/30\n"
     ]
    },
    {
     "name": "stderr",
     "output_type": "stream",
     "text": [
      "/Users/gargoyle/Library/Python/3.9/lib/python/site-packages/keras/src/layers/core/dense.py:93: UserWarning: Do not pass an `input_shape`/`input_dim` argument to a layer. When using Sequential models, prefer using an `Input(shape)` object as the first layer in the model instead.\n",
      "  super().__init__(activity_regularizer=activity_regularizer, **kwargs)\n"
     ]
    },
    {
     "name": "stdout",
     "output_type": "stream",
     "text": [
      "\u001b[1m75/75\u001b[0m \u001b[32m━━━━━━━━━━━━━━━━━━━━\u001b[0m\u001b[37m\u001b[0m \u001b[1m1s\u001b[0m 4ms/step - accuracy: 0.3353 - loss: 1.8024 - val_accuracy: 0.4900 - val_loss: 1.6902\n",
      "Epoch 2/30\n",
      "\u001b[1m75/75\u001b[0m \u001b[32m━━━━━━━━━━━━━━━━━━━━\u001b[0m\u001b[37m\u001b[0m \u001b[1m0s\u001b[0m 2ms/step - accuracy: 0.5308 - loss: 1.2245 - val_accuracy: 0.5217 - val_loss: 1.5978\n",
      "Epoch 3/30\n",
      "\u001b[1m75/75\u001b[0m \u001b[32m━━━━━━━━━━━━━━━━━━━━\u001b[0m\u001b[37m\u001b[0m \u001b[1m0s\u001b[0m 2ms/step - accuracy: 0.6105 - loss: 1.0573 - val_accuracy: 0.5900 - val_loss: 1.4780\n",
      "Epoch 4/30\n",
      "\u001b[1m75/75\u001b[0m \u001b[32m━━━━━━━━━━━━━━━━━━━━\u001b[0m\u001b[37m\u001b[0m \u001b[1m0s\u001b[0m 2ms/step - accuracy: 0.6780 - loss: 0.9085 - val_accuracy: 0.6133 - val_loss: 1.2964\n",
      "Epoch 5/30\n",
      "\u001b[1m75/75\u001b[0m \u001b[32m━━━━━━━━━━━━━━━━━━━━\u001b[0m\u001b[37m\u001b[0m \u001b[1m0s\u001b[0m 2ms/step - accuracy: 0.6976 - loss: 0.8163 - val_accuracy: 0.6417 - val_loss: 1.1252\n",
      "Epoch 6/30\n",
      "\u001b[1m75/75\u001b[0m \u001b[32m━━━━━━━━━━━━━━━━━━━━\u001b[0m\u001b[37m\u001b[0m \u001b[1m0s\u001b[0m 2ms/step - accuracy: 0.7201 - loss: 0.7388 - val_accuracy: 0.6667 - val_loss: 0.9930\n",
      "Epoch 7/30\n",
      "\u001b[1m75/75\u001b[0m \u001b[32m━━━━━━━━━━━━━━━━━━━━\u001b[0m\u001b[37m\u001b[0m \u001b[1m0s\u001b[0m 2ms/step - accuracy: 0.7469 - loss: 0.6843 - val_accuracy: 0.6567 - val_loss: 0.9408\n",
      "Epoch 8/30\n",
      "\u001b[1m75/75\u001b[0m \u001b[32m━━━━━━━━━━━━━━━━━━━━\u001b[0m\u001b[37m\u001b[0m \u001b[1m0s\u001b[0m 3ms/step - accuracy: 0.7639 - loss: 0.6408 - val_accuracy: 0.6683 - val_loss: 0.8544\n",
      "Epoch 9/30\n",
      "\u001b[1m75/75\u001b[0m \u001b[32m━━━━━━━━━━━━━━━━━━━━\u001b[0m\u001b[37m\u001b[0m \u001b[1m0s\u001b[0m 2ms/step - accuracy: 0.7856 - loss: 0.5877 - val_accuracy: 0.6750 - val_loss: 0.8617\n",
      "Epoch 10/30\n",
      "\u001b[1m75/75\u001b[0m \u001b[32m━━━━━━━━━━━━━━━━━━━━\u001b[0m\u001b[37m\u001b[0m \u001b[1m0s\u001b[0m 2ms/step - accuracy: 0.8080 - loss: 0.5448 - val_accuracy: 0.6783 - val_loss: 0.8810\n",
      "Epoch 11/30\n",
      "\u001b[1m75/75\u001b[0m \u001b[32m━━━━━━━━━━━━━━━━━━━━\u001b[0m\u001b[37m\u001b[0m \u001b[1m0s\u001b[0m 2ms/step - accuracy: 0.8208 - loss: 0.4926 - val_accuracy: 0.6767 - val_loss: 0.9058\n",
      "Epoch 12/30\n",
      "\u001b[1m75/75\u001b[0m \u001b[32m━━━━━━━━━━━━━━━━━━━━\u001b[0m\u001b[37m\u001b[0m \u001b[1m0s\u001b[0m 2ms/step - accuracy: 0.8271 - loss: 0.4727 - val_accuracy: 0.6567 - val_loss: 0.9821\n",
      "Epoch 13/30\n",
      "\u001b[1m75/75\u001b[0m \u001b[32m━━━━━━━━━━━━━━━━━━━━\u001b[0m\u001b[37m\u001b[0m \u001b[1m0s\u001b[0m 2ms/step - accuracy: 0.8226 - loss: 0.4636 - val_accuracy: 0.6800 - val_loss: 1.0018\n",
      "Epoch 14/30\n",
      "\u001b[1m75/75\u001b[0m \u001b[32m━━━━━━━━━━━━━━━━━━━━\u001b[0m\u001b[37m\u001b[0m \u001b[1m0s\u001b[0m 2ms/step - accuracy: 0.8441 - loss: 0.4247 - val_accuracy: 0.6667 - val_loss: 0.9876\n",
      "Epoch 15/30\n",
      "\u001b[1m75/75\u001b[0m \u001b[32m━━━━━━━━━━━━━━━━━━━━\u001b[0m\u001b[37m\u001b[0m \u001b[1m0s\u001b[0m 2ms/step - accuracy: 0.8518 - loss: 0.4056 - val_accuracy: 0.6500 - val_loss: 1.0423\n",
      "Epoch 16/30\n",
      "\u001b[1m75/75\u001b[0m \u001b[32m━━━━━━━━━━━━━━━━━━━━\u001b[0m\u001b[37m\u001b[0m \u001b[1m0s\u001b[0m 2ms/step - accuracy: 0.8773 - loss: 0.3629 - val_accuracy: 0.6817 - val_loss: 1.0235\n",
      "Epoch 17/30\n",
      "\u001b[1m75/75\u001b[0m \u001b[32m━━━━━━━━━━━━━━━━━━━━\u001b[0m\u001b[37m\u001b[0m \u001b[1m0s\u001b[0m 3ms/step - accuracy: 0.8633 - loss: 0.3511 - val_accuracy: 0.6467 - val_loss: 1.1523\n",
      "Epoch 18/30\n",
      "\u001b[1m75/75\u001b[0m \u001b[32m━━━━━━━━━━━━━━━━━━━━\u001b[0m\u001b[37m\u001b[0m \u001b[1m0s\u001b[0m 2ms/step - accuracy: 0.8805 - loss: 0.3328 - val_accuracy: 0.6517 - val_loss: 1.2582\n",
      "Epoch 19/30\n",
      "\u001b[1m75/75\u001b[0m \u001b[32m━━━━━━━━━━━━━━━━━━━━\u001b[0m\u001b[37m\u001b[0m \u001b[1m0s\u001b[0m 3ms/step - accuracy: 0.8929 - loss: 0.3026 - val_accuracy: 0.6850 - val_loss: 1.0641\n",
      "Epoch 20/30\n",
      "\u001b[1m75/75\u001b[0m \u001b[32m━━━━━━━━━━━━━━━━━━━━\u001b[0m\u001b[37m\u001b[0m \u001b[1m0s\u001b[0m 2ms/step - accuracy: 0.8706 - loss: 0.3379 - val_accuracy: 0.6783 - val_loss: 1.0686\n",
      "Epoch 21/30\n",
      "\u001b[1m75/75\u001b[0m \u001b[32m━━━━━━━━━━━━━━━━━━━━\u001b[0m\u001b[37m\u001b[0m \u001b[1m0s\u001b[0m 2ms/step - accuracy: 0.9197 - loss: 0.2704 - val_accuracy: 0.6700 - val_loss: 1.2865\n",
      "Epoch 22/30\n",
      "\u001b[1m75/75\u001b[0m \u001b[32m━━━━━━━━━━━━━━━━━━━━\u001b[0m\u001b[37m\u001b[0m \u001b[1m0s\u001b[0m 2ms/step - accuracy: 0.9185 - loss: 0.2297 - val_accuracy: 0.6817 - val_loss: 1.1088\n",
      "Epoch 23/30\n",
      "\u001b[1m75/75\u001b[0m \u001b[32m━━━━━━━━━━━━━━━━━━━━\u001b[0m\u001b[37m\u001b[0m \u001b[1m0s\u001b[0m 2ms/step - accuracy: 0.9126 - loss: 0.2508 - val_accuracy: 0.6733 - val_loss: 1.1859\n",
      "Epoch 24/30\n",
      "\u001b[1m75/75\u001b[0m \u001b[32m━━━━━━━━━━━━━━━━━━━━\u001b[0m\u001b[37m\u001b[0m \u001b[1m0s\u001b[0m 2ms/step - accuracy: 0.9221 - loss: 0.2356 - val_accuracy: 0.6517 - val_loss: 1.0927\n",
      "\u001b[1m19/19\u001b[0m \u001b[32m━━━━━━━━━━━━━━━━━━━━\u001b[0m\u001b[37m\u001b[0m \u001b[1m0s\u001b[0m 3ms/step \n",
      "\n",
      "=== Per-Chef Performance ===\n",
      "\n",
      "       TP  FP  FN   TN  Precision  Recall  F1-Score  Support\n",
      "6357   62   4  12  522      0.939   0.838     0.886       74\n",
      "4470  126  55  35  384      0.696   0.783     0.737      161\n",
      "5060   72  26  35  467      0.735   0.673     0.702      107\n",
      "8688   65  45  22  468      0.591   0.747     0.660       87\n",
      "3288   43  18  47  492      0.705   0.478     0.570       90\n",
      "1533   43  41  38  478      0.512   0.531     0.521       81\n",
      "\n",
      "=== Summary (Macro Averages) ===\n",
      "Precision    0.696\n",
      "Recall       0.675\n",
      "F1-Score     0.679\n",
      "dtype: float64\n"
     ]
    },
    {
     "data": {
      "image/png": "[encoded data removed]",
      "text/plain": [
       "<Figure size 1200x1000 with 2 Axes>"
      ]
     },
     "metadata": {},
     "output_type": "display_data"
    }
   ],
   "source": [
    "print(\"\\nEvaluating model for confusion matrix...\")\n",
    "\n",
    "# use a single train/validation split\n",
    "X_train_split, X_val_split, y_train_split, y_val_split, n_train_split, n_val_split = train_test_split(\n",
    "    X_alltext_noaug, y_noaug, numeric_train_noaug, test_size=0.2, stratify=y_noaug, random_state=RANDOM_STATE\n",
    ")\n",
    "\n",
    "# Embed and concatenate features\n",
    "X_train_embed = embed(X_train_split.tolist())\n",
    "X_val_embed   = embed(X_val_split.tolist())\n",
    "X_train_concat = np.hstack([X_train_embed, n_train_split])\n",
    "X_val_concat   = np.hstack([X_val_embed, n_val_split])\n",
    "\n",
    "# One-hot labels\n",
    "y_train_cat = utils.to_categorical(pd.Categorical(y_train_split, categories=classes_noaug).codes)\n",
    "y_val_cat   = utils.to_categorical(pd.Categorical(y_val_split, categories=classes_noaug).codes)\n",
    "\n",
    "# Train a model for evaluation\n",
    "model_eval = build_ffnn()\n",
    "early_stop_eval = EarlyStopping(monitor='val_accuracy', patience=5, restore_best_weights=True)\n",
    "model_eval.fit(\n",
    "    X_train_concat, y_train_cat,\n",
    "    validation_data=(X_val_concat, y_val_cat),\n",
    "    epochs=30, batch_size=32, verbose=1,\n",
    "    callbacks=[early_stop_eval]\n",
    ")\n",
    "\n",
    "# Predictions on validation set\n",
    "val_pred_probs = model_eval.predict(X_val_concat)\n",
    "val_pred_indices = np.argmax(val_pred_probs, axis=1)\n",
    "val_true_indices = pd.Categorical(y_val_split, categories=classes_noaug).codes\n",
    "\n",
    "\n",
    "cm = confusion_matrix(val_true_indices, val_pred_indices)\n",
    "\n",
    "tp = np.diag(cm)\n",
    "fp = cm.sum(axis=0) - tp\n",
    "fn = cm.sum(axis=1) - tp\n",
    "tn = cm.sum() - (fp + fn + tp)\n",
    "\n",
    "confusion_metrics = pd.DataFrame({\n",
    "    'TP': tp,\n",
    "    'FP': fp,\n",
    "    'FN': fn,\n",
    "    'TN': tn,\n",
    "    'Precision': tp / (tp + fp + 1e-10),\n",
    "    'Recall': tp / (tp + fn + 1e-10),\n",
    "    'F1-Score': 2 * tp / (2 * tp + fp + fn + 1e-10),\n",
    "    'Support': cm.sum(axis=1)\n",
    "}, index=[str(c) for c in classes_noaug])\n",
    "\n",
    "# sort by f1-score descending\n",
    "confusion_metrics = confusion_metrics.sort_values(by='F1-Score', ascending=False)\n",
    "\n",
    "print(\"\\n=== Per-Chef Performance ===\\n\")\n",
    "print(confusion_metrics.round(3))\n",
    "\n",
    "# summarize overall averages\n",
    "print(\"\\n=== Summary (Macro Averages) ===\")\n",
    "print(confusion_metrics[['Precision', 'Recall', 'F1-Score']].mean().round(3))\n",
    "\n",
    "# confusion matrix plotting\n",
    "plt.figure(figsize=(12, 10))\n",
    "sns.heatmap(cm, annot=False, cmap='Blues', xticklabels=classes_noaug, yticklabels=classes_noaug)\n",
    "plt.title(\"Confusion Matrix - Best FFNN Model\")\n",
    "plt.xlabel(\"Predicted Chef ID\")\n",
    "plt.ylabel(\"True Chef ID\")\n",
    "plt.tight_layout()\n",
    "plt.show()"
   ]
  },
  {
   "cell_type": "code",
   "execution_count": 10,
   "metadata": {},
   "outputs": [
    {
     "name": "stdout",
     "output_type": "stream",
     "text": [
      "\n",
      "Retraining on full augmented dataset for final submission...\n",
      "Epoch 1/30\n"
     ]
    },
    {
     "name": "stderr",
     "output_type": "stream",
     "text": [
      "/Users/gargoyle/Library/Python/3.9/lib/python/site-packages/keras/src/layers/core/dense.py:93: UserWarning: Do not pass an `input_shape`/`input_dim` argument to a layer. When using Sequential models, prefer using an `Input(shape)` object as the first layer in the model instead.\n",
      "  super().__init__(activity_regularizer=activity_regularizer, **kwargs)\n"
     ]
    },
    {
     "name": "stdout",
     "output_type": "stream",
     "text": [
      "\u001b[1m94/94\u001b[0m \u001b[32m━━━━━━━━━━━━━━━━━━━━\u001b[0m\u001b[37m\u001b[0m \u001b[1m1s\u001b[0m 2ms/step - accuracy: 0.3015 - loss: 1.8448\n",
      "Epoch 2/30\n",
      "\u001b[1m94/94\u001b[0m \u001b[32m━━━━━━━━━━━━━━━━━━━━\u001b[0m\u001b[37m\u001b[0m \u001b[1m0s\u001b[0m 2ms/step - accuracy: 0.5432 - loss: 1.1945\n",
      "Epoch 3/30\n",
      "\u001b[1m94/94\u001b[0m \u001b[32m━━━━━━━━━━━━━━━━━━━━\u001b[0m\u001b[37m\u001b[0m \u001b[1m0s\u001b[0m 2ms/step - accuracy: 0.6356 - loss: 0.9910\n",
      "Epoch 4/30\n",
      "\u001b[1m94/94\u001b[0m \u001b[32m━━━━━━━━━━━━━━━━━━━━\u001b[0m\u001b[37m\u001b[0m \u001b[1m0s\u001b[0m 2ms/step - accuracy: 0.6826 - loss: 0.8760\n",
      "Epoch 5/30\n",
      "\u001b[1m94/94\u001b[0m \u001b[32m━━━━━━━━━━━━━━━━━━━━\u001b[0m\u001b[37m\u001b[0m \u001b[1m0s\u001b[0m 2ms/step - accuracy: 0.7129 - loss: 0.7828\n",
      "Epoch 6/30\n",
      "\u001b[1m94/94\u001b[0m \u001b[32m━━━━━━━━━━━━━━━━━━━━\u001b[0m\u001b[37m\u001b[0m \u001b[1m0s\u001b[0m 2ms/step - accuracy: 0.7084 - loss: 0.7746\n",
      "Epoch 7/30\n",
      "\u001b[1m94/94\u001b[0m \u001b[32m━━━━━━━━━━━━━━━━━━━━\u001b[0m\u001b[37m\u001b[0m \u001b[1m0s\u001b[0m 2ms/step - accuracy: 0.7404 - loss: 0.7103\n",
      "Epoch 8/30\n",
      "\u001b[1m94/94\u001b[0m \u001b[32m━━━━━━━━━━━━━━━━━━━━\u001b[0m\u001b[37m\u001b[0m \u001b[1m0s\u001b[0m 2ms/step - accuracy: 0.7633 - loss: 0.6373\n",
      "Epoch 9/30\n",
      "\u001b[1m94/94\u001b[0m \u001b[32m━━━━━━━━━━━━━━━━━━━━\u001b[0m\u001b[37m\u001b[0m \u001b[1m0s\u001b[0m 3ms/step - accuracy: 0.7708 - loss: 0.6355\n",
      "Epoch 10/30\n",
      "\u001b[1m94/94\u001b[0m \u001b[32m━━━━━━━━━━━━━━━━━━━━\u001b[0m\u001b[37m\u001b[0m \u001b[1m0s\u001b[0m 2ms/step - accuracy: 0.7849 - loss: 0.5599\n",
      "Epoch 11/30\n",
      "\u001b[1m94/94\u001b[0m \u001b[32m━━━━━━━━━━━━━━━━━━━━\u001b[0m\u001b[37m\u001b[0m \u001b[1m0s\u001b[0m 2ms/step - accuracy: 0.8171 - loss: 0.5088\n",
      "Epoch 12/30\n",
      "\u001b[1m94/94\u001b[0m \u001b[32m━━━━━━━━━━━━━━━━━━━━\u001b[0m\u001b[37m\u001b[0m \u001b[1m0s\u001b[0m 2ms/step - accuracy: 0.8026 - loss: 0.5130\n",
      "Epoch 13/30\n",
      "\u001b[1m94/94\u001b[0m \u001b[32m━━━━━━━━━━━━━━━━━━━━\u001b[0m\u001b[37m\u001b[0m \u001b[1m0s\u001b[0m 2ms/step - accuracy: 0.8226 - loss: 0.4809\n",
      "Epoch 14/30\n",
      "\u001b[1m94/94\u001b[0m \u001b[32m━━━━━━━━━━━━━━━━━━━━\u001b[0m\u001b[37m\u001b[0m \u001b[1m0s\u001b[0m 2ms/step - accuracy: 0.8335 - loss: 0.4416\n",
      "Epoch 15/30\n",
      "\u001b[1m94/94\u001b[0m \u001b[32m━━━━━━━━━━━━━━━━━━━━\u001b[0m\u001b[37m\u001b[0m \u001b[1m0s\u001b[0m 2ms/step - accuracy: 0.8551 - loss: 0.3930\n",
      "Epoch 16/30\n",
      "\u001b[1m94/94\u001b[0m \u001b[32m━━━━━━━━━━━━━━━━━━━━\u001b[0m\u001b[37m\u001b[0m \u001b[1m0s\u001b[0m 2ms/step - accuracy: 0.8590 - loss: 0.4032\n",
      "Epoch 17/30\n",
      "\u001b[1m94/94\u001b[0m \u001b[32m━━━━━━━━━━━━━━━━━━━━\u001b[0m\u001b[37m\u001b[0m \u001b[1m0s\u001b[0m 2ms/step - accuracy: 0.8692 - loss: 0.3682\n",
      "Epoch 18/30\n",
      "\u001b[1m94/94\u001b[0m \u001b[32m━━━━━━━━━━━━━━━━━━━━\u001b[0m\u001b[37m\u001b[0m \u001b[1m0s\u001b[0m 2ms/step - accuracy: 0.8670 - loss: 0.3600\n",
      "Epoch 19/30\n",
      "\u001b[1m94/94\u001b[0m \u001b[32m━━━━━━━━━━━━━━━━━━━━\u001b[0m\u001b[37m\u001b[0m \u001b[1m0s\u001b[0m 2ms/step - accuracy: 0.8704 - loss: 0.3426\n",
      "Epoch 20/30\n",
      "\u001b[1m94/94\u001b[0m \u001b[32m━━━━━━━━━━━━━━━━━━━━\u001b[0m\u001b[37m\u001b[0m \u001b[1m0s\u001b[0m 2ms/step - accuracy: 0.8925 - loss: 0.3050\n",
      "Epoch 21/30\n",
      "\u001b[1m94/94\u001b[0m \u001b[32m━━━━━━━━━━━━━━━━━━━━\u001b[0m\u001b[37m\u001b[0m \u001b[1m0s\u001b[0m 2ms/step - accuracy: 0.8847 - loss: 0.3256\n",
      "Epoch 22/30\n",
      "\u001b[1m94/94\u001b[0m \u001b[32m━━━━━━━━━━━━━━━━━━━━\u001b[0m\u001b[37m\u001b[0m \u001b[1m0s\u001b[0m 2ms/step - accuracy: 0.8884 - loss: 0.3216\n",
      "Epoch 23/30\n",
      "\u001b[1m94/94\u001b[0m \u001b[32m━━━━━━━━━━━━━━━━━━━━\u001b[0m\u001b[37m\u001b[0m \u001b[1m0s\u001b[0m 2ms/step - accuracy: 0.8918 - loss: 0.3040\n",
      "Epoch 24/30\n",
      "\u001b[1m94/94\u001b[0m \u001b[32m━━━━━━━━━━━━━━━━━━━━\u001b[0m\u001b[37m\u001b[0m \u001b[1m0s\u001b[0m 2ms/step - accuracy: 0.8851 - loss: 0.3089\n",
      "Epoch 25/30\n",
      "\u001b[1m94/94\u001b[0m \u001b[32m━━━━━━━━━━━━━━━━━━━━\u001b[0m\u001b[37m\u001b[0m \u001b[1m0s\u001b[0m 2ms/step - accuracy: 0.9127 - loss: 0.2538\n",
      "Epoch 26/30\n",
      "\u001b[1m94/94\u001b[0m \u001b[32m━━━━━━━━━━━━━━━━━━━━\u001b[0m\u001b[37m\u001b[0m \u001b[1m0s\u001b[0m 2ms/step - accuracy: 0.9185 - loss: 0.2302\n",
      "Epoch 27/30\n",
      "\u001b[1m94/94\u001b[0m \u001b[32m━━━━━━━━━━━━━━━━━━━━\u001b[0m\u001b[37m\u001b[0m \u001b[1m0s\u001b[0m 2ms/step - accuracy: 0.9280 - loss: 0.2114\n",
      "Epoch 28/30\n",
      "\u001b[1m94/94\u001b[0m \u001b[32m━━━━━━━━━━━━━━━━━━━━\u001b[0m\u001b[37m\u001b[0m \u001b[1m0s\u001b[0m 2ms/step - accuracy: 0.9231 - loss: 0.2052\n",
      "Epoch 29/30\n",
      "\u001b[1m94/94\u001b[0m \u001b[32m━━━━━━━━━━━━━━━━━━━━\u001b[0m\u001b[37m\u001b[0m \u001b[1m0s\u001b[0m 2ms/step - accuracy: 0.9054 - loss: 0.2735\n",
      "Epoch 30/30\n",
      "\u001b[1m94/94\u001b[0m \u001b[32m━━━━━━━━━━━━━━━━━━━━\u001b[0m\u001b[37m\u001b[0m \u001b[1m0s\u001b[0m 2ms/step - accuracy: 0.9108 - loss: 0.2509\n",
      "\u001b[1m26/26\u001b[0m \u001b[32m━━━━━━━━━━━━━━━━━━━━\u001b[0m\u001b[37m\u001b[0m \u001b[1m0s\u001b[0m 2ms/step \n",
      "\n",
      "Predictions saved to results.txt\n"
     ]
    }
   ],
   "source": [
    "# retraining full dataset for the test dataset\n",
    "print(\"\\nRetraining on full augmented dataset for final submission...\")\n",
    "\n",
    "X_full_embed = embed(X_alltext_noaug.tolist())\n",
    "X_full_concat = np.hstack([X_full_embed, numeric_train_noaug])\n",
    "y_full_cat = utils.to_categorical(pd.Categorical(y_noaug, categories=classes_noaug).codes)\n",
    "\n",
    "final_model = build_ffnn()\n",
    "early_stop_final = EarlyStopping(monitor='accuracy', patience=3, restore_best_weights=True)\n",
    "\n",
    "final_model.fit(X_full_concat, y_full_cat, epochs=30, batch_size=32, verbose=1, callbacks=[early_stop_final])\n",
    "\n",
    "# test set predicting\n",
    "X_test_all = combine_all_text(test_df)\n",
    "X_test_embed = embed(X_test_all.tolist())\n",
    "X_test_concat = np.hstack([X_test_embed, numeric_test])\n",
    "\n",
    "pred_probs = final_model.predict(X_test_concat)\n",
    "pred_indices = np.argmax(pred_probs, axis=1)\n",
    "pred_labels = [classes_noaug[i] for i in pred_indices]\n",
    "\n",
    "with open(\"results.txt\", \"w\", encoding=\"utf-8\") as f:\n",
    "    f.write(\"\\n\")  # offset by 1 line for automatic testing\n",
    "    f.write(\"\\n\".join(str(label) for label in pred_labels))\n",
    "\n",
    "\n",
    "print(\"\\nPredictions saved to results.txt\")"
   ]
  }
 ],
 "metadata": {
  "kernelspec": {
   "display_name": "Python 3",
   "language": "python",
   "name": "python3"
  },
  "language_info": {
   "codemirror_mode": {
    "name": "ipython",
    "version": 3
   },
   "file_extension": ".py",
   "mimetype": "text/x-python",
   "name": "python",
   "nbconvert_exporter": "python",
   "pygments_lexer": "ipython3",
   "version": "3.9.6"
  }
 },
 "nbformat": 4,
 "nbformat_minor": 2
}
