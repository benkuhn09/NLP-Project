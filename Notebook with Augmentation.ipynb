{
 "cells": [
  {
   "cell_type": "code",
   "execution_count": 33,
   "metadata": {},
   "outputs": [],
   "source": [
    "#imports\n",
    "\n",
    "import ast                     # try_literal_eval()\n",
    "import numpy as np              \n",
    "import pandas as pd             \n",
    "from pathlib import Path        \n",
    "import tensorflow_hub as hub    # loading Universal Sentence Encoder\n",
    "from tensorflow.keras.callbacks import EarlyStopping   \n",
    "from tensorflow.keras import layers, models, utils     # build_ffnn, one-hot, etc.\n",
    "import seaborn as sns\n",
    "from sklearn.metrics import classification_report, confusion_matrix\n",
    "from sklearn.model_selection import StratifiedKFold    # cross-validation\n",
    "from sklearn.model_selection import train_test_split\n",
    "from sklearn.preprocessing import StandardScaler       # numeric feature scaling\n",
    "import matplotlib.pyplot as plt  # class distribution plot\n",
    "from sklearn.utils.class_weight import compute_class_weight  # class weights\n",
    "import re                       # clean_text()\n",
    "\n",
    "\n",
    "\n",
    "\n",
    "RANDOM_STATE = 42\n",
    "N_JOBS = -1\n",
    "\n",
    "pd.set_option(\"display.max_colwidth\", 120)"
   ]
  },
  {
   "cell_type": "code",
   "execution_count": 34,
   "metadata": {},
   "outputs": [
    {
     "name": "stdout",
     "output_type": "stream",
     "text": [
      "Train shape: (2999, 8)\n",
      "Test shape: (823, 7)\n",
      "Train columns: ['chef_id', 'recipe_name', 'data', 'tags', 'steps', 'description', 'ingredients', 'n_ingredients']\n",
      "Test columns: ['recipe_name', 'data', 'tags', 'steps', 'description', 'ingredients', 'n_ingredients']\n"
     ]
    }
   ],
   "source": [
    "#reading in data\n",
    "\n",
    "def read_semicolon_csv(path):\n",
    "    return pd.read_csv(path, sep=';', dtype=str, keep_default_na=False)\n",
    "\n",
    "DATA_DIR = Path('.')\n",
    "train_path = DATA_DIR / 'train.csv'\n",
    "test_path  = DATA_DIR / 'test-no-labels.csv'\n",
    "\n",
    "train_df = read_semicolon_csv(train_path)\n",
    "test_df  = read_semicolon_csv(test_path)\n",
    "\n",
    "print(\"Train shape:\", train_df.shape)\n",
    "print(\"Test shape:\",  test_df.shape)\n",
    "train_df.head(2)\n",
    "\n",
    "print(\"Train columns:\", train_df.columns.tolist())\n",
    "print(\"Test columns:\", test_df.columns.tolist())"
   ]
  },
  {
   "cell_type": "code",
   "execution_count": 35,
   "metadata": {},
   "outputs": [
    {
     "name": "stdout",
     "output_type": "stream",
     "text": [
      "Classes (chefs): ['1533', '3288', '4470', '5060', '6357', '8688'] -> 6 classes\n"
     ]
    }
   ],
   "source": [
    "# helper: parse strings into lists\n",
    "def try_literal_eval(x):\n",
    "    if isinstance(x, list):\n",
    "        return x\n",
    "    try:\n",
    "        val = ast.literal_eval(x)\n",
    "        if isinstance(val, (list, tuple)):\n",
    "            return [str(i) for i in val]\n",
    "        return [str(val)]\n",
    "    except Exception:\n",
    "        # fallback: just split on commas\n",
    "        return [t.strip() for t in str(x).split(',') if t.strip()]\n",
    "\n",
    "# helper: strings to floats\n",
    "def parse_numeric(x):\n",
    "    try:\n",
    "        return float(x)\n",
    "    except Exception:\n",
    "        return np.nan\n",
    "\n",
    "# parsing list-like columns\n",
    "for col in ['tags', 'steps', 'ingredients']:\n",
    "    train_df[col] = train_df[col].apply(try_literal_eval)\n",
    "    test_df[col]  = test_df[col].apply(try_literal_eval)\n",
    "\n",
    "# make sure n_ingredients is numeric\n",
    "train_df['n_ingredients_num'] = train_df['n_ingredients'].apply(parse_numeric)\n",
    "test_df['n_ingredients_num']  = test_df['n_ingredients'].apply(parse_numeric)\n",
    "\n",
    "# fill missing numeric values using ingredient list length\n",
    "train_df['n_ingredients_num'] = np.where(train_df['n_ingredients_num'].isna(),\n",
    "                                         train_df['ingredients'].apply(len),\n",
    "                                         train_df['n_ingredients_num'])\n",
    "test_df['n_ingredients_num'] = np.where(test_df['n_ingredients_num'].isna(),\n",
    "                                        test_df['ingredients'].apply(len),\n",
    "                                        test_df['n_ingredients_num'])\n",
    "\n",
    "# ensure textual columns are strings\n",
    "text_cols = ['recipe_name', 'data', 'description']\n",
    "for c in text_cols:\n",
    "    train_df[c] = train_df[c].astype(str)\n",
    "    test_df[c]  = test_df[c].astype(str)\n",
    "\n",
    "# get the target labels (the chef IDs)\n",
    "y = train_df['chef_id'].astype(str).values\n",
    "classes = np.unique(y)\n",
    "print(\"Classes (chefs):\", classes.tolist(), \"->\", len(classes), \"classes\")"
   ]
  },
  {
   "cell_type": "code",
   "execution_count": 36,
   "metadata": {},
   "outputs": [],
   "source": [
    "embed = hub.load(\"https://tfhub.dev/google/universal-sentence-encoder/4\")"
   ]
  },
  {
   "cell_type": "code",
   "execution_count": 37,
   "metadata": {},
   "outputs": [
    {
     "name": "stdout",
     "output_type": "stream",
     "text": [
      "Example combined text:\n",
      "\n",
      "name chefy s rice pudding. date 29012002. description by request, from georgian bay gourmet.. tags 60-minutes-or-less, time-to-make, course, main-ingredient, cuisine, preparation, occasion, north-american, for-large-groups, desserts, lunch, rice, canadian, oven, easy, potluck, dinner-party, fall, heirloom-historical, holiday-event, kid-friendly, winter, puddings-and-mousses, grains, dietary, low-s\n",
      "\n",
      "Numeric feature example (first 5 rows):\n",
      "   n_ingredients_num_scaled  n_steps_scaled\n",
      "0                 -0.833448       -0.234484\n",
      "1                  1.065464        1.176185\n",
      "2                  0.794191        0.647184\n",
      "3                 -1.375995       -1.292486\n",
      "4                  1.065464        3.821190\n"
     ]
    },
    {
     "data": {
      "image/png": "[encoded data removed]",
      "text/plain": [
       "<Figure size 640x480 with 1 Axes>"
      ]
     },
     "metadata": {},
     "output_type": "display_data"
    },
    {
     "name": "stdout",
     "output_type": "stream",
     "text": [
      "1533    404\n",
      "3288    451\n",
      "4470    806\n",
      "5060    534\n",
      "6357    372\n",
      "8688    432\n",
      "Name: count, dtype: int64\n",
      "\n",
      "Proportions (%):\n",
      "1533    13.47\n",
      "3288    15.04\n",
      "4470    26.88\n",
      "5060    17.81\n",
      "6357    12.40\n",
      "8688    14.40\n",
      "Name: count, dtype: float64\n",
      "{0: np.float64(1.2372112211221122), 1: np.float64(1.108277900960828), 2: np.float64(0.6201406120760959), 3: np.float64(0.9360174781523096), 4: np.float64(1.3436379928315412), 5: np.float64(1.1570216049382716)}\n"
     ]
    }
   ],
   "source": [
    "def clean_text(text):\n",
    "    text = re.sub(r'\\s+', ' ', text)     # collapse multiple spaces\n",
    "    text = re.sub(r'[^\\w\\s,.!?-]', '', text)  # remove weird symbols\n",
    "    text = text.strip().lower()\n",
    "    return text\n",
    "\n",
    "def combine_all_text(df):\n",
    "    return (\n",
    "        \"name: \" + df['recipe_name'].fillna('') + '. ' +\n",
    "        \"date: \" + df['data'].fillna('') + '. ' +\n",
    "        \"description: \" + df['description'].fillna('') + '. ' +\n",
    "        \"tags: \" + df['tags'].apply(lambda lst: ', '.join(lst) if isinstance(lst, list) else str(lst)) + '. ' +\n",
    "        \"steps: \" + df['steps'].apply(lambda lst: '. '.join(lst) if isinstance(lst, list) else str(lst)) + '. ' +\n",
    "        \"ingredients: \" + df['ingredients'].apply(lambda lst: ', '.join(lst) if isinstance(lst, list) else str(lst)) + '.'\n",
    "    ).apply(clean_text)\n",
    "\n",
    "X_alltext = combine_all_text(train_df)\n",
    "\n",
    "print(\"Example combined text:\\n\")\n",
    "print(X_alltext.iloc[0][:400])\n",
    "\n",
    "# count steps\n",
    "train_df['n_steps'] = train_df['steps'].apply(len)\n",
    "test_df['n_steps'] = test_df['steps'].apply(len)\n",
    "\n",
    "scaler = StandardScaler()\n",
    "numeric_train = scaler.fit_transform(train_df[['n_ingredients_num', 'n_steps']])\n",
    "numeric_test  = scaler.transform(test_df[['n_ingredients_num', 'n_steps']])\n",
    "\n",
    "print(\"\\nNumeric feature example (first 5 rows):\")\n",
    "print(pd.DataFrame(numeric_train, columns=['n_ingredients_num_scaled', 'n_steps_scaled']).head())\n",
    "\n",
    "# chef data balance chart\n",
    "chef_counts = pd.Series(y).value_counts().sort_index()\n",
    "chef_counts.plot(kind='bar')\n",
    "plt.title(\"Number of Recipes per Chef\")\n",
    "plt.xlabel(\"Chef ID\")\n",
    "plt.ylabel(\"Count\")\n",
    "plt.show()\n",
    "\n",
    "print(chef_counts)\n",
    "print(\"\\nProportions (%):\")\n",
    "print((chef_counts / len(y) * 100).round(2))\n",
    "\n",
    "class_weights = compute_class_weight('balanced', classes=classes, y=y)\n",
    "class_weights_dict = dict(zip(range(len(classes)), class_weights))\n",
    "print(class_weights_dict)"
   ]
  },
  {
   "cell_type": "code",
   "execution_count": 38,
   "metadata": {},
   "outputs": [
    {
     "name": "stdout",
     "output_type": "stream",
     "text": [
      "\n",
      "Current class distribution:\n",
      "1533    404\n",
      "3288    451\n",
      "4470    806\n",
      "5060    534\n",
      "6357    372\n",
      "8688    432\n",
      "Name: count, dtype: int64\n",
      "\n",
      "→ Target per class: 806\n",
      "↑ Augmented class 5060: +272 samples\n",
      "↑ Augmented class 3288: +355 samples\n",
      "↑ Augmented class 8688: +374 samples\n",
      "↑ Augmented class 1533: +402 samples\n",
      "↑ Augmented class 6357: +434 samples\n",
      "\n",
      "New class distribution:\n",
      "1533    806\n",
      "3288    806\n",
      "4470    806\n",
      "5060    806\n",
      "6357    806\n",
      "8688    806\n",
      "Name: count, dtype: int64\n"
     ]
    }
   ],
   "source": [
    "\n",
    "def augment_text(text):\n",
    "    # simple example: randomly delete or swap words\n",
    "    words = text.split()\n",
    "    if len(words) > 5 and np.random.rand() < 0.3:\n",
    "        idx = np.random.randint(0, len(words))\n",
    "        del words[idx]\n",
    "    return ' '.join(words)\n",
    "\n",
    "def augment_minority_classes(X_texts, numeric_features, y, target_size=None, noise_std=0.05):\n",
    "    \"\"\"\n",
    "    Balances class distribution by text swap/deletion + numeric jitter.\n",
    "    \n",
    "    Parameters:\n",
    "        X_texts : pd.Series or list of recipe text data\n",
    "        numeric_features : np.ndarray of numeric inputs\n",
    "        y : array-like of labels\n",
    "        target_size : int or None. If None, use max class size as target.\n",
    "        noise_std : float. Standard deviation of Gaussian noise for numeric jitter.\n",
    "    \"\"\"\n",
    "    # get class counts\n",
    "    label_counts = pd.Series(y).value_counts()\n",
    "    max_count = label_counts.max() if target_size is None else target_size\n",
    "    \n",
    "    print(\"\\nCurrent class distribution:\")\n",
    "    print(label_counts.sort_index())\n",
    "    print(f\"\\n→ Target per class: {max_count}\")\n",
    "    \n",
    "    augmented_texts = []\n",
    "    augmented_numeric = []\n",
    "    augmented_labels = []\n",
    "\n",
    "    # For each class below the target, duplicate and jitter\n",
    "    for label, count in label_counts.items():\n",
    "        if count < max_count:\n",
    "            n_to_add = max_count - count\n",
    "            idx = np.where(y == label)[0]\n",
    "            chosen_idx = np.random.choice(idx, size=n_to_add, replace=True)\n",
    "            \n",
    "            # Randomly delete or swap text\n",
    "            augmented_texts.extend([augment_text(t) for t in X_texts.iloc[chosen_idx]])\n",
    "            \n",
    "            # Jitter numeric data slightly\n",
    "            numeric_jitter = numeric_features[chosen_idx] + np.random.normal(0, noise_std, numeric_features[chosen_idx].shape)\n",
    "            augmented_numeric.append(numeric_jitter)\n",
    "            \n",
    "            augmented_labels.extend([label] * n_to_add)\n",
    "            print(f\"↑ Augmented class {label}: +{n_to_add} samples\")\n",
    "\n",
    "    # Combine original and augmented data\n",
    "    if augmented_texts:\n",
    "        X_texts_all = pd.concat([pd.Series(X_texts), pd.Series(augmented_texts)], ignore_index=True)\n",
    "        numeric_all = np.vstack([numeric_features, np.vstack(augmented_numeric)])\n",
    "        y_all = np.concatenate([y, np.array(augmented_labels)])\n",
    "    else:\n",
    "        X_texts_all, numeric_all, y_all = X_texts, numeric_features, y\n",
    "        print(\"\\nNo augmentation performed — all classes already balanced.\")\n",
    "    \n",
    "    # print new class distribution\n",
    "    print(\"\\nNew class distribution:\")\n",
    "    print(pd.Series(y_all).value_counts().sort_index())\n",
    "    \n",
    "    return X_texts_all, numeric_all, y_all\n",
    "\n",
    "\n",
    "X_alltext_aug, numeric_train_aug, y_aug = augment_minority_classes(\n",
    "    X_alltext, numeric_train, y, noise_std=0.03\n",
    ")"
   ]
  },
  {
   "cell_type": "code",
   "execution_count": 39,
   "metadata": {},
   "outputs": [
    {
     "name": "stdout",
     "output_type": "stream",
     "text": [
      "\n",
      "----- Fold 1/12 -----\n"
     ]
    },
    {
     "name": "stderr",
     "output_type": "stream",
     "text": [
      "/Users/gargoyle/Library/Python/3.9/lib/python/site-packages/keras/src/layers/core/dense.py:93: UserWarning: Do not pass an `input_shape`/`input_dim` argument to a layer. When using Sequential models, prefer using an `Input(shape)` object as the first layer in the model instead.\n",
      "  super().__init__(activity_regularizer=activity_regularizer, **kwargs)\n"
     ]
    },
    {
     "name": "stdout",
     "output_type": "stream",
     "text": [
      "Fold 1 accuracy: 90.57%\n",
      "\n",
      "----- Fold 2/12 -----\n"
     ]
    },
    {
     "name": "stderr",
     "output_type": "stream",
     "text": [
      "/Users/gargoyle/Library/Python/3.9/lib/python/site-packages/keras/src/layers/core/dense.py:93: UserWarning: Do not pass an `input_shape`/`input_dim` argument to a layer. When using Sequential models, prefer using an `Input(shape)` object as the first layer in the model instead.\n",
      "  super().__init__(activity_regularizer=activity_regularizer, **kwargs)\n"
     ]
    },
    {
     "name": "stdout",
     "output_type": "stream",
     "text": [
      "Fold 2 accuracy: 85.11%\n",
      "\n",
      "----- Fold 3/12 -----\n"
     ]
    },
    {
     "name": "stderr",
     "output_type": "stream",
     "text": [
      "/Users/gargoyle/Library/Python/3.9/lib/python/site-packages/keras/src/layers/core/dense.py:93: UserWarning: Do not pass an `input_shape`/`input_dim` argument to a layer. When using Sequential models, prefer using an `Input(shape)` object as the first layer in the model instead.\n",
      "  super().__init__(activity_regularizer=activity_regularizer, **kwargs)\n"
     ]
    },
    {
     "name": "stdout",
     "output_type": "stream",
     "text": [
      "Fold 3 accuracy: 86.60%\n",
      "\n",
      "----- Fold 4/12 -----\n"
     ]
    },
    {
     "name": "stderr",
     "output_type": "stream",
     "text": [
      "/Users/gargoyle/Library/Python/3.9/lib/python/site-packages/keras/src/layers/core/dense.py:93: UserWarning: Do not pass an `input_shape`/`input_dim` argument to a layer. When using Sequential models, prefer using an `Input(shape)` object as the first layer in the model instead.\n",
      "  super().__init__(activity_regularizer=activity_regularizer, **kwargs)\n"
     ]
    },
    {
     "name": "stdout",
     "output_type": "stream",
     "text": [
      "Fold 4 accuracy: 88.59%\n",
      "\n",
      "----- Fold 5/12 -----\n"
     ]
    },
    {
     "name": "stderr",
     "output_type": "stream",
     "text": [
      "/Users/gargoyle/Library/Python/3.9/lib/python/site-packages/keras/src/layers/core/dense.py:93: UserWarning: Do not pass an `input_shape`/`input_dim` argument to a layer. When using Sequential models, prefer using an `Input(shape)` object as the first layer in the model instead.\n",
      "  super().__init__(activity_regularizer=activity_regularizer, **kwargs)\n"
     ]
    },
    {
     "name": "stdout",
     "output_type": "stream",
     "text": [
      "Fold 5 accuracy: 87.10%\n",
      "\n",
      "----- Fold 6/12 -----\n"
     ]
    },
    {
     "name": "stderr",
     "output_type": "stream",
     "text": [
      "/Users/gargoyle/Library/Python/3.9/lib/python/site-packages/keras/src/layers/core/dense.py:93: UserWarning: Do not pass an `input_shape`/`input_dim` argument to a layer. When using Sequential models, prefer using an `Input(shape)` object as the first layer in the model instead.\n",
      "  super().__init__(activity_regularizer=activity_regularizer, **kwargs)\n"
     ]
    },
    {
     "name": "stdout",
     "output_type": "stream",
     "text": [
      "Fold 6 accuracy: 89.08%\n",
      "\n",
      "----- Fold 7/12 -----\n"
     ]
    },
    {
     "name": "stderr",
     "output_type": "stream",
     "text": [
      "/Users/gargoyle/Library/Python/3.9/lib/python/site-packages/keras/src/layers/core/dense.py:93: UserWarning: Do not pass an `input_shape`/`input_dim` argument to a layer. When using Sequential models, prefer using an `Input(shape)` object as the first layer in the model instead.\n",
      "  super().__init__(activity_regularizer=activity_regularizer, **kwargs)\n"
     ]
    },
    {
     "name": "stdout",
     "output_type": "stream",
     "text": [
      "Fold 7 accuracy: 88.34%\n",
      "\n",
      "----- Fold 8/12 -----\n"
     ]
    },
    {
     "name": "stderr",
     "output_type": "stream",
     "text": [
      "/Users/gargoyle/Library/Python/3.9/lib/python/site-packages/keras/src/layers/core/dense.py:93: UserWarning: Do not pass an `input_shape`/`input_dim` argument to a layer. When using Sequential models, prefer using an `Input(shape)` object as the first layer in the model instead.\n",
      "  super().__init__(activity_regularizer=activity_regularizer, **kwargs)\n"
     ]
    },
    {
     "name": "stdout",
     "output_type": "stream",
     "text": [
      "Fold 8 accuracy: 86.35%\n",
      "\n",
      "----- Fold 9/12 -----\n"
     ]
    },
    {
     "name": "stderr",
     "output_type": "stream",
     "text": [
      "/Users/gargoyle/Library/Python/3.9/lib/python/site-packages/keras/src/layers/core/dense.py:93: UserWarning: Do not pass an `input_shape`/`input_dim` argument to a layer. When using Sequential models, prefer using an `Input(shape)` object as the first layer in the model instead.\n",
      "  super().__init__(activity_regularizer=activity_regularizer, **kwargs)\n"
     ]
    },
    {
     "name": "stdout",
     "output_type": "stream",
     "text": [
      "Fold 9 accuracy: 84.62%\n",
      "\n",
      "----- Fold 10/12 -----\n"
     ]
    },
    {
     "name": "stderr",
     "output_type": "stream",
     "text": [
      "/Users/gargoyle/Library/Python/3.9/lib/python/site-packages/keras/src/layers/core/dense.py:93: UserWarning: Do not pass an `input_shape`/`input_dim` argument to a layer. When using Sequential models, prefer using an `Input(shape)` object as the first layer in the model instead.\n",
      "  super().__init__(activity_regularizer=activity_regularizer, **kwargs)\n"
     ]
    },
    {
     "name": "stdout",
     "output_type": "stream",
     "text": [
      "Fold 10 accuracy: 89.58%\n",
      "\n",
      "----- Fold 11/12 -----\n"
     ]
    },
    {
     "name": "stderr",
     "output_type": "stream",
     "text": [
      "/Users/gargoyle/Library/Python/3.9/lib/python/site-packages/keras/src/layers/core/dense.py:93: UserWarning: Do not pass an `input_shape`/`input_dim` argument to a layer. When using Sequential models, prefer using an `Input(shape)` object as the first layer in the model instead.\n",
      "  super().__init__(activity_regularizer=activity_regularizer, **kwargs)\n"
     ]
    },
    {
     "name": "stdout",
     "output_type": "stream",
     "text": [
      "Fold 11 accuracy: 89.33%\n",
      "\n",
      "----- Fold 12/12 -----\n"
     ]
    },
    {
     "name": "stderr",
     "output_type": "stream",
     "text": [
      "/Users/gargoyle/Library/Python/3.9/lib/python/site-packages/keras/src/layers/core/dense.py:93: UserWarning: Do not pass an `input_shape`/`input_dim` argument to a layer. When using Sequential models, prefer using an `Input(shape)` object as the first layer in the model instead.\n",
      "  super().__init__(activity_regularizer=activity_regularizer, **kwargs)\n"
     ]
    },
    {
     "name": "stdout",
     "output_type": "stream",
     "text": [
      "Fold 12 accuracy: 88.09%\n",
      "\n",
      "Cross-validation results:\n",
      "Mean accuracy: 87.78% ± 1.76%\n"
     ]
    },
    {
     "data": {
      "text/plain": [
       "'\\nprint(\"\\nEvaluating model for confusion matrix...\")\\n\\n# use a single train/validation split\\nfrom sklearn.model_selection import train_test_split\\nX_train_split, X_val_split, y_train_split, y_val_split, n_train_split, n_val_split = train_test_split(\\n    X_alltext_aug, y_aug, numeric_train_aug, test_size=0.2, stratify=y_aug, random_state=RANDOM_STATE\\n)\\n\\n# Embed and concatenate features\\nX_train_embed = embed(X_train_split.tolist())\\nX_val_embed   = embed(X_val_split.tolist())\\nX_train_concat = np.hstack([X_train_embed, n_train_split])\\nX_val_concat   = np.hstack([X_val_embed, n_val_split])\\n\\n# One-hot labels\\ny_train_cat = utils.to_categorical(pd.Categorical(y_train_split, categories=classes_aug).codes)\\ny_val_cat   = utils.to_categorical(pd.Categorical(y_val_split, categories=classes_aug).codes)\\n\\n# Train a model for evaluation\\nmodel_eval = build_ffnn()\\nearly_stop_eval = EarlyStopping(monitor=\\'val_accuracy\\', patience=5, restore_best_weights=True)\\nmodel_eval.fit(\\n    X_train_concat, y_train_cat,\\n    validation_data=(X_val_concat, y_val_cat),\\n    epochs=30, batch_size=32, verbose=1,\\n    callbacks=[early_stop_eval]\\n)\\n\\n# Predictions on validation set\\nval_pred_probs = model_eval.predict(X_val_concat)\\nval_pred_indices = np.argmax(val_pred_probs, axis=1)\\nval_true_indices = pd.Categorical(y_val_split, categories=classes_aug).codes\\n\\n\\ncm = confusion_matrix(val_true_indices, val_pred_indices)\\n\\ntp = np.diag(cm)\\nfp = cm.sum(axis=0) - tp\\nfn = cm.sum(axis=1) - tp\\ntn = cm.sum() - (fp + fn + tp)\\n\\nconfusion_metrics = pd.DataFrame({\\n    \\'TP\\': tp,\\n    \\'FP\\': fp,\\n    \\'FN\\': fn,\\n    \\'TN\\': tn,\\n    \\'Precision\\': tp / (tp + fp + 1e-10),\\n    \\'Recall\\': tp / (tp + fn + 1e-10),\\n    \\'F1-Score\\': 2 * tp / (2 * tp + fp + fn + 1e-10),\\n    \\'Support\\': cm.sum(axis=1)\\n}, index=[str(c) for c in classes_aug])\\n\\n# sort by f1-score descending\\nconfusion_metrics = confusion_metrics.sort_values(by=\\'F1-Score\\', ascending=False)\\n\\nprint(\"\\n=== Per-Class Performance (Including TP/FP/FN/TN) ===\\n\")\\nprint(confusion_metrics.round(3))\\n\\n# summarize overall averages\\nprint(\"\\n=== Summary (Macro Averages) ===\")\\nprint(confusion_metrics[[\\'Precision\\', \\'Recall\\', \\'F1-Score\\']].mean().round(3))\\n\\n# confusion matrix plotting\\nplt.figure(figsize=(12, 10))\\nsns.heatmap(cm, annot=False, cmap=\\'Blues\\', xticklabels=classes_aug, yticklabels=classes_aug)\\nplt.title(\"Confusion Matrix - Best FFNN Model\")\\nplt.xlabel(\"Predicted Chef ID\")\\nplt.ylabel(\"True Chef ID\")\\nplt.tight_layout()\\nplt.show()\\n\\n\\n# retraining full dataset for the test dataset\\nprint(\"\\nRetraining on full augmented dataset for final submission...\")\\n\\nX_full_embed = embed(X_alltext_aug.tolist())\\nX_full_concat = np.hstack([X_full_embed, numeric_train_aug])\\ny_full_cat = utils.to_categorical(pd.Categorical(y_aug, categories=classes_aug).codes)\\n\\nfinal_model = build_ffnn()\\nearly_stop_final = EarlyStopping(monitor=\\'accuracy\\', patience=3, restore_best_weights=True)\\n\\nfinal_model.fit(X_full_concat, y_full_cat, epochs=30, batch_size=32, verbose=1, callbacks=[early_stop_final])\\n\\n# test set predicting\\nX_test_all = combine_all_text(test_df)\\nX_test_embed = embed(X_test_all.tolist())\\nX_test_concat = np.hstack([X_test_embed, numeric_test])\\n\\npred_probs = final_model.predict(X_test_concat)\\npred_indices = np.argmax(pred_probs, axis=1)\\npred_labels = [classes_aug[i] for i in pred_indices]\\n\\nwith open(\"results.txt\", \"w\", encoding=\"utf-8\") as f:\\n    f.write(\"\\n\")  # offset by 1 line for automatic testing\\n    f.write(\"\\n\".join(str(label) for label in pred_labels))\\n\\n\\nprint(\"\\nPredictions saved to results.txt\")'"
      ]
     },
     "execution_count": 39,
     "metadata": {},
     "output_type": "execute_result"
    }
   ],
   "source": [
    "classes_aug = np.unique(y_aug)\n",
    "\n",
    "# model\n",
    "def build_ffnn():\n",
    "    model = models.Sequential([\n",
    "        layers.Dense(256, activation='relu', input_shape=(514,)),  # 512 + 2 numeric\n",
    "        layers.BatchNormalization(),\n",
    "        layers.Dropout(0.3),\n",
    "        layers.Dense(128, activation='relu'),\n",
    "        layers.Dropout(0.3),\n",
    "        layers.Dense(len(classes_aug), activation='softmax')\n",
    "    ])\n",
    "    model.compile(optimizer='adam', loss='categorical_crossentropy', metrics=['accuracy'])\n",
    "    return model\n",
    "\n",
    "\n",
    "# k-fold training\n",
    "kf = StratifiedKFold(n_splits=12, shuffle=True, random_state=RANDOM_STATE)\n",
    "fold_accuracies = []\n",
    "\n",
    "\n",
    "for fold, (train_idx, val_idx) in enumerate(kf.split(X_alltext_aug, y_aug), 1):\n",
    "    print(f\"\\n----- Fold {fold}/{kf.n_splits} -----\")\n",
    "    X_train_fold, X_val_fold = X_alltext_aug.iloc[train_idx], X_alltext_aug.iloc[val_idx]\n",
    "    y_train_fold, y_val_fold = y_aug[train_idx], y_aug[val_idx]\n",
    "\n",
    "    # embeddings\n",
    "    X_train_embed = embed(X_train_fold.tolist())\n",
    "    X_val_embed   = embed(X_val_fold.tolist())\n",
    "\n",
    "    # Numeric features\n",
    "    n_train = numeric_train_aug[train_idx]\n",
    "    n_val   = numeric_train_aug[val_idx]\n",
    "\n",
    "    # Combine text and numeric features\n",
    "    X_train_concat = np.hstack([X_train_embed, n_train])\n",
    "    X_val_concat   = np.hstack([X_val_embed, n_val])\n",
    "\n",
    "    # One-hot encode labels\n",
    "    y_train_cat = utils.to_categorical(pd.Categorical(y_train_fold, categories=classes_aug).codes)\n",
    "    y_val_cat   = utils.to_categorical(pd.Categorical(y_val_fold, categories=classes_aug).codes)\n",
    "\n",
    "    # Train\n",
    "    model = build_ffnn()\n",
    "    early_stop = EarlyStopping(monitor='val_accuracy', patience=6, restore_best_weights=True)\n",
    "\n",
    "    history = model.fit(\n",
    "        X_train_concat, y_train_cat,\n",
    "        validation_data=(X_val_concat, y_val_cat),\n",
    "        epochs=30, batch_size=32, verbose=0,\n",
    "        callbacks=[early_stop]\n",
    "        # NOTE: we remove class_weights since we now balanced classes via augmentation\n",
    "    )\n",
    "\n",
    "    loss, acc = model.evaluate(X_val_concat, y_val_cat, verbose=0)\n",
    "    print(f\"Fold {fold} accuracy: {acc*100:.2f}%\")\n",
    "    fold_accuracies.append(acc)\n",
    "\n",
    "print(\"\\nCross-validation results:\")\n",
    "print(f\"Mean accuracy: {np.mean(fold_accuracies)*100:.2f}% ± {np.std(fold_accuracies)*100:.2f}%\")\n"
   ]
  },
  {
   "cell_type": "code",
   "execution_count": 43,
   "metadata": {},
   "outputs": [
    {
     "name": "stdout",
     "output_type": "stream",
     "text": [
      "\n",
      "Evaluating model for confusion matrix...\n",
      "Epoch 1/30\n"
     ]
    },
    {
     "name": "stderr",
     "output_type": "stream",
     "text": [
      "/Users/gargoyle/Library/Python/3.9/lib/python/site-packages/keras/src/layers/core/dense.py:93: UserWarning: Do not pass an `input_shape`/`input_dim` argument to a layer. When using Sequential models, prefer using an `Input(shape)` object as the first layer in the model instead.\n",
      "  super().__init__(activity_regularizer=activity_regularizer, **kwargs)\n"
     ]
    },
    {
     "name": "stdout",
     "output_type": "stream",
     "text": [
      "\u001b[1m121/121\u001b[0m \u001b[32m━━━━━━━━━━━━━━━━━━━━\u001b[0m\u001b[37m\u001b[0m \u001b[1m1s\u001b[0m 3ms/step - accuracy: 0.3190 - loss: 1.7535 - val_accuracy: 0.4649 - val_loss: 1.6395\n",
      "Epoch 2/30\n",
      "\u001b[1m121/121\u001b[0m \u001b[32m━━━━━━━━━━━━━━━━━━━━\u001b[0m\u001b[37m\u001b[0m \u001b[1m0s\u001b[0m 2ms/step - accuracy: 0.5861 - loss: 1.1231 - val_accuracy: 0.6488 - val_loss: 1.4118\n",
      "Epoch 3/30\n",
      "\u001b[1m121/121\u001b[0m \u001b[32m━━━━━━━━━━━━━━━━━━━━\u001b[0m\u001b[37m\u001b[0m \u001b[1m0s\u001b[0m 2ms/step - accuracy: 0.6491 - loss: 0.9430 - val_accuracy: 0.6890 - val_loss: 1.1110\n",
      "Epoch 4/30\n",
      "\u001b[1m121/121\u001b[0m \u001b[32m━━━━━━━━━━━━━━━━━━━━\u001b[0m\u001b[37m\u001b[0m \u001b[1m0s\u001b[0m 2ms/step - accuracy: 0.7204 - loss: 0.7534 - val_accuracy: 0.7252 - val_loss: 0.8744\n",
      "Epoch 5/30\n",
      "\u001b[1m121/121\u001b[0m \u001b[32m━━━━━━━━━━━━━━━━━━━━\u001b[0m\u001b[37m\u001b[0m \u001b[1m0s\u001b[0m 2ms/step - accuracy: 0.7446 - loss: 0.6861 - val_accuracy: 0.7758 - val_loss: 0.6934\n",
      "Epoch 6/30\n",
      "\u001b[1m121/121\u001b[0m \u001b[32m━━━━━━━━━━━━━━━━━━━━\u001b[0m\u001b[37m\u001b[0m \u001b[1m0s\u001b[0m 2ms/step - accuracy: 0.7938 - loss: 0.5739 - val_accuracy: 0.7727 - val_loss: 0.6612\n",
      "Epoch 7/30\n",
      "\u001b[1m121/121\u001b[0m \u001b[32m━━━━━━━━━━━━━━━━━━━━\u001b[0m\u001b[37m\u001b[0m \u001b[1m0s\u001b[0m 2ms/step - accuracy: 0.8045 - loss: 0.5587 - val_accuracy: 0.8110 - val_loss: 0.5755\n",
      "Epoch 8/30\n",
      "\u001b[1m121/121\u001b[0m \u001b[32m━━━━━━━━━━━━━━━━━━━━\u001b[0m\u001b[37m\u001b[0m \u001b[1m0s\u001b[0m 2ms/step - accuracy: 0.8241 - loss: 0.4959 - val_accuracy: 0.7831 - val_loss: 0.6219\n",
      "Epoch 9/30\n",
      "\u001b[1m121/121\u001b[0m \u001b[32m━━━━━━━━━━━━━━━━━━━━\u001b[0m\u001b[37m\u001b[0m \u001b[1m0s\u001b[0m 2ms/step - accuracy: 0.8374 - loss: 0.4658 - val_accuracy: 0.8151 - val_loss: 0.5167\n",
      "Epoch 10/30\n",
      "\u001b[1m121/121\u001b[0m \u001b[32m━━━━━━━━━━━━━━━━━━━━\u001b[0m\u001b[37m\u001b[0m \u001b[1m0s\u001b[0m 2ms/step - accuracy: 0.8598 - loss: 0.4080 - val_accuracy: 0.7944 - val_loss: 0.5751\n",
      "Epoch 11/30\n",
      "\u001b[1m121/121\u001b[0m \u001b[32m━━━━━━━━━━━━━━━━━━━━\u001b[0m\u001b[37m\u001b[0m \u001b[1m0s\u001b[0m 2ms/step - accuracy: 0.8560 - loss: 0.3924 - val_accuracy: 0.8430 - val_loss: 0.4923\n",
      "Epoch 12/30\n",
      "\u001b[1m121/121\u001b[0m \u001b[32m━━━━━━━━━━━━━━━━━━━━\u001b[0m\u001b[37m\u001b[0m \u001b[1m0s\u001b[0m 2ms/step - accuracy: 0.8645 - loss: 0.3597 - val_accuracy: 0.8471 - val_loss: 0.5010\n",
      "Epoch 13/30\n",
      "\u001b[1m121/121\u001b[0m \u001b[32m━━━━━━━━━━━━━━━━━━━━\u001b[0m\u001b[37m\u001b[0m \u001b[1m0s\u001b[0m 2ms/step - accuracy: 0.8859 - loss: 0.3164 - val_accuracy: 0.8233 - val_loss: 0.5183\n",
      "Epoch 14/30\n",
      "\u001b[1m121/121\u001b[0m \u001b[32m━━━━━━━━━━━━━━━━━━━━\u001b[0m\u001b[37m\u001b[0m \u001b[1m0s\u001b[0m 2ms/step - accuracy: 0.9125 - loss: 0.2720 - val_accuracy: 0.8337 - val_loss: 0.5584\n",
      "Epoch 15/30\n",
      "\u001b[1m121/121\u001b[0m \u001b[32m━━━━━━━━━━━━━━━━━━━━\u001b[0m\u001b[37m\u001b[0m \u001b[1m0s\u001b[0m 2ms/step - accuracy: 0.9013 - loss: 0.2675 - val_accuracy: 0.8388 - val_loss: 0.5366\n",
      "Epoch 16/30\n",
      "\u001b[1m121/121\u001b[0m \u001b[32m━━━━━━━━━━━━━━━━━━━━\u001b[0m\u001b[37m\u001b[0m \u001b[1m0s\u001b[0m 2ms/step - accuracy: 0.8980 - loss: 0.2737 - val_accuracy: 0.8605 - val_loss: 0.4905\n",
      "Epoch 17/30\n",
      "\u001b[1m121/121\u001b[0m \u001b[32m━━━━━━━━━━━━━━━━━━━━\u001b[0m\u001b[37m\u001b[0m \u001b[1m0s\u001b[0m 2ms/step - accuracy: 0.9135 - loss: 0.2494 - val_accuracy: 0.8523 - val_loss: 0.5304\n",
      "Epoch 18/30\n",
      "\u001b[1m121/121\u001b[0m \u001b[32m━━━━━━━━━━━━━━━━━━━━\u001b[0m\u001b[37m\u001b[0m \u001b[1m0s\u001b[0m 2ms/step - accuracy: 0.9300 - loss: 0.2043 - val_accuracy: 0.8461 - val_loss: 0.5030\n",
      "Epoch 19/30\n",
      "\u001b[1m121/121\u001b[0m \u001b[32m━━━━━━━━━━━━━━━━━━━━\u001b[0m\u001b[37m\u001b[0m \u001b[1m0s\u001b[0m 2ms/step - accuracy: 0.9195 - loss: 0.2267 - val_accuracy: 0.8543 - val_loss: 0.5118\n",
      "Epoch 20/30\n",
      "\u001b[1m121/121\u001b[0m \u001b[32m━━━━━━━━━━━━━━━━━━━━\u001b[0m\u001b[37m\u001b[0m \u001b[1m0s\u001b[0m 2ms/step - accuracy: 0.9236 - loss: 0.2245 - val_accuracy: 0.8481 - val_loss: 0.5259\n",
      "Epoch 21/30\n",
      "\u001b[1m121/121\u001b[0m \u001b[32m━━━━━━━━━━━━━━━━━━━━\u001b[0m\u001b[37m\u001b[0m \u001b[1m0s\u001b[0m 3ms/step - accuracy: 0.9198 - loss: 0.2179 - val_accuracy: 0.8223 - val_loss: 0.6275\n",
      "\u001b[1m31/31\u001b[0m \u001b[32m━━━━━━━━━━━━━━━━━━━━\u001b[0m\u001b[37m\u001b[0m \u001b[1m0s\u001b[0m 2ms/step \n",
      "\n",
      "=== Per-Class Performance (Including TP/FP/FN/TN) ===\n",
      "\n",
      "       TP  FP  FN   TN  Precision  Recall  F1-Score  Support\n",
      "6357  161  14   1  792      0.920   0.994     0.955      162\n",
      "8688  132   8  29  799      0.943   0.820     0.877      161\n",
      "1533  144  31  17  776      0.823   0.894     0.857      161\n",
      "5060  146  37  16  769      0.798   0.901     0.846      162\n",
      "3288  136  25  25  782      0.845   0.845     0.845      161\n",
      "4470  114  20  47  787      0.851   0.708     0.773      161\n",
      "\n",
      "=== Summary (Macro Averages) ===\n",
      "Precision    0.863\n",
      "Recall       0.860\n",
      "F1-Score     0.859\n",
      "dtype: float64\n"
     ]
    },
    {
     "data": {
      "image/png": "[encoded data removed]",
      "text/plain": [
       "<Figure size 1200x1000 with 2 Axes>"
      ]
     },
     "metadata": {},
     "output_type": "display_data"
    }
   ],
   "source": [
    "print(\"\\nEvaluating model for confusion matrix...\")\n",
    "\n",
    "# use a single train/validation split\n",
    "X_train_split, X_val_split, y_train_split, y_val_split, n_train_split, n_val_split = train_test_split(\n",
    "    X_alltext_aug, y_aug, numeric_train_aug, test_size=0.2, stratify=y_aug, random_state=RANDOM_STATE\n",
    ")\n",
    "\n",
    "# Embed and concatenate features\n",
    "X_train_embed = embed(X_train_split.tolist())\n",
    "X_val_embed   = embed(X_val_split.tolist())\n",
    "X_train_concat = np.hstack([X_train_embed, n_train_split])\n",
    "X_val_concat   = np.hstack([X_val_embed, n_val_split])\n",
    "\n",
    "# One-hot labels\n",
    "y_train_cat = utils.to_categorical(pd.Categorical(y_train_split, categories=classes_aug).codes)\n",
    "y_val_cat   = utils.to_categorical(pd.Categorical(y_val_split, categories=classes_aug).codes)\n",
    "\n",
    "# Train a model for evaluation\n",
    "model_eval = build_ffnn()\n",
    "early_stop_eval = EarlyStopping(monitor='val_accuracy', patience=5, restore_best_weights=True)\n",
    "model_eval.fit(\n",
    "    X_train_concat, y_train_cat,\n",
    "    validation_data=(X_val_concat, y_val_cat),\n",
    "    epochs=30, batch_size=32, verbose=1,\n",
    "    callbacks=[early_stop_eval]\n",
    ")\n",
    "\n",
    "# Predictions on validation set\n",
    "val_pred_probs = model_eval.predict(X_val_concat)\n",
    "val_pred_indices = np.argmax(val_pred_probs, axis=1)\n",
    "val_true_indices = pd.Categorical(y_val_split, categories=classes_aug).codes\n",
    "\n",
    "\n",
    "cm = confusion_matrix(val_true_indices, val_pred_indices)\n",
    "\n",
    "tp = np.diag(cm)\n",
    "fp = cm.sum(axis=0) - tp\n",
    "fn = cm.sum(axis=1) - tp\n",
    "tn = cm.sum() - (fp + fn + tp)\n",
    "\n",
    "confusion_metrics = pd.DataFrame({\n",
    "    'TP': tp,\n",
    "    'FP': fp,\n",
    "    'FN': fn,\n",
    "    'TN': tn,\n",
    "    'Precision': tp / (tp + fp + 1e-10),\n",
    "    'Recall': tp / (tp + fn + 1e-10),\n",
    "    'F1-Score': 2 * tp / (2 * tp + fp + fn + 1e-10),\n",
    "    'Support': cm.sum(axis=1)\n",
    "}, index=[str(c) for c in classes_aug])\n",
    "\n",
    "# sort by f1-score descending\n",
    "confusion_metrics = confusion_metrics.sort_values(by='F1-Score', ascending=False)\n",
    "\n",
    "print(\"\\n=== Per-Chef Performance ===\\n\")\n",
    "print(confusion_metrics.round(3))\n",
    "\n",
    "# summarize overall averages\n",
    "print(\"\\n=== Summary (Macro Averages) ===\")\n",
    "print(confusion_metrics[['Precision', 'Recall', 'F1-Score']].mean().round(3))\n",
    "\n",
    "# confusion matrix plotting\n",
    "plt.figure(figsize=(12, 10))\n",
    "sns.heatmap(cm, annot=False, cmap='Blues', xticklabels=classes_aug, yticklabels=classes_aug)\n",
    "plt.title(\"Confusion Matrix - Best FFNN Model\")\n",
    "plt.xlabel(\"Predicted Chef ID\")\n",
    "plt.ylabel(\"True Chef ID\")\n",
    "plt.tight_layout()\n",
    "plt.show()"
   ]
  },
  {
   "cell_type": "code",
   "execution_count": 41,
   "metadata": {},
   "outputs": [
    {
     "name": "stdout",
     "output_type": "stream",
     "text": [
      "\n",
      "Retraining on full augmented dataset for final submission...\n",
      "Epoch 1/30\n"
     ]
    },
    {
     "name": "stderr",
     "output_type": "stream",
     "text": [
      "/Users/gargoyle/Library/Python/3.9/lib/python/site-packages/keras/src/layers/core/dense.py:93: UserWarning: Do not pass an `input_shape`/`input_dim` argument to a layer. When using Sequential models, prefer using an `Input(shape)` object as the first layer in the model instead.\n",
      "  super().__init__(activity_regularizer=activity_regularizer, **kwargs)\n"
     ]
    },
    {
     "name": "stdout",
     "output_type": "stream",
     "text": [
      "\u001b[1m152/152\u001b[0m \u001b[32m━━━━━━━━━━━━━━━━━━━━\u001b[0m\u001b[37m\u001b[0m \u001b[1m1s\u001b[0m 2ms/step - accuracy: 0.3486 - loss: 1.6705\n",
      "Epoch 2/30\n",
      "\u001b[1m152/152\u001b[0m \u001b[32m━━━━━━━━━━━━━━━━━━━━\u001b[0m\u001b[37m\u001b[0m \u001b[1m0s\u001b[0m 2ms/step - accuracy: 0.6110 - loss: 1.0373\n",
      "Epoch 3/30\n",
      "\u001b[1m152/152\u001b[0m \u001b[32m━━━━━━━━━━━━━━━━━━━━\u001b[0m\u001b[37m\u001b[0m \u001b[1m0s\u001b[0m 2ms/step - accuracy: 0.6785 - loss: 0.8757\n",
      "Epoch 4/30\n",
      "\u001b[1m152/152\u001b[0m \u001b[32m━━━━━━━━━━━━━━━━━━━━\u001b[0m\u001b[37m\u001b[0m \u001b[1m0s\u001b[0m 2ms/step - accuracy: 0.7333 - loss: 0.7074\n",
      "Epoch 5/30\n",
      "\u001b[1m152/152\u001b[0m \u001b[32m━━━━━━━━━━━━━━━━━━━━\u001b[0m\u001b[37m\u001b[0m \u001b[1m0s\u001b[0m 2ms/step - accuracy: 0.7722 - loss: 0.6304\n",
      "Epoch 6/30\n",
      "\u001b[1m152/152\u001b[0m \u001b[32m━━━━━━━━━━━━━━━━━━━━\u001b[0m\u001b[37m\u001b[0m \u001b[1m0s\u001b[0m 2ms/step - accuracy: 0.7976 - loss: 0.5656\n",
      "Epoch 7/30\n",
      "\u001b[1m152/152\u001b[0m \u001b[32m━━━━━━━━━━━━━━━━━━━━\u001b[0m\u001b[37m\u001b[0m \u001b[1m0s\u001b[0m 2ms/step - accuracy: 0.8170 - loss: 0.4988\n",
      "Epoch 8/30\n",
      "\u001b[1m152/152\u001b[0m \u001b[32m━━━━━━━━━━━━━━━━━━━━\u001b[0m\u001b[37m\u001b[0m \u001b[1m0s\u001b[0m 2ms/step - accuracy: 0.8273 - loss: 0.4668\n",
      "Epoch 9/30\n",
      "\u001b[1m152/152\u001b[0m \u001b[32m━━━━━━━━━━━━━━━━━━━━\u001b[0m\u001b[37m\u001b[0m \u001b[1m0s\u001b[0m 2ms/step - accuracy: 0.8378 - loss: 0.4547\n",
      "Epoch 10/30\n",
      "\u001b[1m152/152\u001b[0m \u001b[32m━━━━━━━━━━━━━━━━━━━━\u001b[0m\u001b[37m\u001b[0m \u001b[1m0s\u001b[0m 2ms/step - accuracy: 0.8567 - loss: 0.4341\n",
      "Epoch 11/30\n",
      "\u001b[1m152/152\u001b[0m \u001b[32m━━━━━━━━━━━━━━━━━━━━\u001b[0m\u001b[37m\u001b[0m \u001b[1m0s\u001b[0m 2ms/step - accuracy: 0.8604 - loss: 0.3753\n",
      "Epoch 12/30\n",
      "\u001b[1m152/152\u001b[0m \u001b[32m━━━━━━━━━━━━━━━━━━━━\u001b[0m\u001b[37m\u001b[0m \u001b[1m0s\u001b[0m 2ms/step - accuracy: 0.8830 - loss: 0.3368\n",
      "Epoch 13/30\n",
      "\u001b[1m152/152\u001b[0m \u001b[32m━━━━━━━━━━━━━━━━━━━━\u001b[0m\u001b[37m\u001b[0m \u001b[1m0s\u001b[0m 2ms/step - accuracy: 0.8743 - loss: 0.3379\n",
      "Epoch 14/30\n",
      "\u001b[1m152/152\u001b[0m \u001b[32m━━━━━━━━━━━━━━━━━━━━\u001b[0m\u001b[37m\u001b[0m \u001b[1m0s\u001b[0m 2ms/step - accuracy: 0.8998 - loss: 0.2903\n",
      "Epoch 15/30\n",
      "\u001b[1m152/152\u001b[0m \u001b[32m━━━━━━━━━━━━━━━━━━━━\u001b[0m\u001b[37m\u001b[0m \u001b[1m0s\u001b[0m 2ms/step - accuracy: 0.9002 - loss: 0.2842\n",
      "Epoch 16/30\n",
      "\u001b[1m152/152\u001b[0m \u001b[32m━━━━━━━━━━━━━━━━━━━━\u001b[0m\u001b[37m\u001b[0m \u001b[1m0s\u001b[0m 2ms/step - accuracy: 0.9094 - loss: 0.2715\n",
      "Epoch 17/30\n",
      "\u001b[1m152/152\u001b[0m \u001b[32m━━━━━━━━━━━━━━━━━━━━\u001b[0m\u001b[37m\u001b[0m \u001b[1m0s\u001b[0m 2ms/step - accuracy: 0.9102 - loss: 0.2423\n",
      "Epoch 18/30\n",
      "\u001b[1m152/152\u001b[0m \u001b[32m━━━━━━━━━━━━━━━━━━━━\u001b[0m\u001b[37m\u001b[0m \u001b[1m0s\u001b[0m 2ms/step - accuracy: 0.9153 - loss: 0.2470\n",
      "Epoch 19/30\n",
      "\u001b[1m152/152\u001b[0m \u001b[32m━━━━━━━━━━━━━━━━━━━━\u001b[0m\u001b[37m\u001b[0m \u001b[1m0s\u001b[0m 2ms/step - accuracy: 0.9273 - loss: 0.2045\n",
      "Epoch 20/30\n",
      "\u001b[1m152/152\u001b[0m \u001b[32m━━━━━━━━━━━━━━━━━━━━\u001b[0m\u001b[37m\u001b[0m \u001b[1m0s\u001b[0m 2ms/step - accuracy: 0.9174 - loss: 0.2308\n",
      "Epoch 21/30\n",
      "\u001b[1m152/152\u001b[0m \u001b[32m━━━━━━━━━━━━━━━━━━━━\u001b[0m\u001b[37m\u001b[0m \u001b[1m0s\u001b[0m 2ms/step - accuracy: 0.9307 - loss: 0.2034\n",
      "Epoch 22/30\n",
      "\u001b[1m152/152\u001b[0m \u001b[32m━━━━━━━━━━━━━━━━━━━━\u001b[0m\u001b[37m\u001b[0m \u001b[1m0s\u001b[0m 2ms/step - accuracy: 0.9344 - loss: 0.1905\n",
      "Epoch 23/30\n",
      "\u001b[1m152/152\u001b[0m \u001b[32m━━━━━━━━━━━━━━━━━━━━\u001b[0m\u001b[37m\u001b[0m \u001b[1m0s\u001b[0m 2ms/step - accuracy: 0.9399 - loss: 0.1630\n",
      "Epoch 24/30\n",
      "\u001b[1m152/152\u001b[0m \u001b[32m━━━━━━━━━━━━━━━━━━━━\u001b[0m\u001b[37m\u001b[0m \u001b[1m0s\u001b[0m 2ms/step - accuracy: 0.9289 - loss: 0.2027\n",
      "Epoch 25/30\n",
      "\u001b[1m152/152\u001b[0m \u001b[32m━━━━━━━━━━━━━━━━━━━━\u001b[0m\u001b[37m\u001b[0m \u001b[1m0s\u001b[0m 2ms/step - accuracy: 0.9285 - loss: 0.2041\n",
      "Epoch 26/30\n",
      "\u001b[1m152/152\u001b[0m \u001b[32m━━━━━━━━━━━━━━━━━━━━\u001b[0m\u001b[37m\u001b[0m \u001b[1m0s\u001b[0m 2ms/step - accuracy: 0.9323 - loss: 0.1925\n",
      "\u001b[1m26/26\u001b[0m \u001b[32m━━━━━━━━━━━━━━━━━━━━\u001b[0m\u001b[37m\u001b[0m \u001b[1m0s\u001b[0m 2ms/step \n",
      "\n",
      "Predictions saved to results.txt\n"
     ]
    }
   ],
   "source": [
    "# retraining full dataset for the test dataset\n",
    "print(\"\\nRetraining on full augmented dataset for final submission...\")\n",
    "\n",
    "X_full_embed = embed(X_alltext_aug.tolist())\n",
    "X_full_concat = np.hstack([X_full_embed, numeric_train_aug])\n",
    "y_full_cat = utils.to_categorical(pd.Categorical(y_aug, categories=classes_aug).codes)\n",
    "\n",
    "final_model = build_ffnn()\n",
    "early_stop_final = EarlyStopping(monitor='accuracy', patience=3, restore_best_weights=True)\n",
    "\n",
    "final_model.fit(X_full_concat, y_full_cat, epochs=30, batch_size=32, verbose=1, callbacks=[early_stop_final])\n",
    "\n",
    "# test set predicting\n",
    "X_test_all = combine_all_text(test_df)\n",
    "X_test_embed = embed(X_test_all.tolist())\n",
    "X_test_concat = np.hstack([X_test_embed, numeric_test])\n",
    "\n",
    "pred_probs = final_model.predict(X_test_concat)\n",
    "pred_indices = np.argmax(pred_probs, axis=1)\n",
    "pred_labels = [classes_aug[i] for i in pred_indices]\n",
    "\n",
    "with open(\"results.txt\", \"w\", encoding=\"utf-8\") as f:\n",
    "    f.write(\"\\n\")  # offset by 1 line for automatic testing\n",
    "    f.write(\"\\n\".join(str(label) for label in pred_labels))\n",
    "\n",
    "\n",
    "print(\"\\nPredictions saved to results.txt\")"
   ]
  }
 ],
 "metadata": {
  "kernelspec": {
   "display_name": "Python 3",
   "language": "python",
   "name": "python3"
  },
  "language_info": {
   "codemirror_mode": {
    "name": "ipython",
    "version": 3
   },
   "file_extension": ".py",
   "mimetype": "text/x-python",
   "name": "python",
   "nbconvert_exporter": "python",
   "pygments_lexer": "ipython3",
   "version": "3.9.6"
  }
 },
 "nbformat": 4,
 "nbformat_minor": 2
}
